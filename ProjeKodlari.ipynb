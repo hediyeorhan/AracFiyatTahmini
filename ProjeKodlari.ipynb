{
 "cells": [
  {
   "cell_type": "code",
   "execution_count": 1,
   "metadata": {},
   "outputs": [],
   "source": [
    "#Gerekli kütüphaneleri import ediyoruz\n",
    "\n",
    "import pandas as pd\n",
    "import numpy as np\n",
    "\n",
    "#REGRESYON\n",
    "import xgboost as xgb\n",
    "from xgboost import XGBRegressor\n",
    "from sklearn.model_selection import train_test_split, GridSearchCV,cross_val_score\n",
    "from sklearn.metrics import mean_squared_error, r2_score\n",
    "from sklearn import model_selection\n",
    "from lightgbm import LGBMRegressor\n",
    "from sklearn.ensemble import RandomForestRegressor, GradientBoostingRegressor\n",
    "from catboost import CatBoostRegressor\n",
    "\n",
    "#TKINTER\n",
    "from tkinter import *\n",
    "from tkinter import messagebox\n",
    "from tkinter import filedialog\n",
    "from tkinter.ttk import Combobox\n",
    "from tkinter import messagebox\n",
    "from tkinter import Canvas\n",
    "from tkinter import ttk\n"
   ]
  },
  {
   "cell_type": "code",
   "execution_count": 2,
   "metadata": {},
   "outputs": [],
   "source": [
    "from sklearn import preprocessing \n",
    "le = preprocessing.LabelEncoder()"
   ]
  },
  {
   "cell_type": "code",
   "execution_count": 3,
   "metadata": {},
   "outputs": [],
   "source": [
    "data = pd.read_csv(\"car_data.csv\")"
   ]
  },
  {
   "cell_type": "code",
   "execution_count": 4,
   "metadata": {},
   "outputs": [],
   "source": [
    "df = data.copy()"
   ]
  },
  {
   "cell_type": "code",
   "execution_count": null,
   "metadata": {},
   "outputs": [],
   "source": [
    "# Veri setimizindeki sütunların adlarını kendimize göre değiştirdik."
   ]
  },
  {
   "cell_type": "code",
   "execution_count": 5,
   "metadata": {},
   "outputs": [],
   "source": [
    "df = df.rename(columns = {\"name\" : \"Marka\",\n",
    "                    \"year\" : \"Yil\",\n",
    "                    \"selling_price\" : \"Fiyat\",\n",
    "                    \"km_driven\" : \"Km\",\n",
    "                    \"fuel\" : \"Yakit\",\n",
    "                    \"seller_type\" : \"SaticiTipi\",\n",
    "                    \"transmission\" : \"Vites\",\n",
    "                    \"owner\" : \"KacinciSahip\"})"
   ]
  },
  {
   "cell_type": "code",
   "execution_count": 6,
   "metadata": {},
   "outputs": [
    {
     "data": {
      "text/html": [
       "<div>\n",
       "<style scoped>\n",
       "    .dataframe tbody tr th:only-of-type {\n",
       "        vertical-align: middle;\n",
       "    }\n",
       "\n",
       "    .dataframe tbody tr th {\n",
       "        vertical-align: top;\n",
       "    }\n",
       "\n",
       "    .dataframe thead th {\n",
       "        text-align: right;\n",
       "    }\n",
       "</style>\n",
       "<table border=\"1\" class=\"dataframe\">\n",
       "  <thead>\n",
       "    <tr style=\"text-align: right;\">\n",
       "      <th></th>\n",
       "      <th>Marka</th>\n",
       "      <th>Yil</th>\n",
       "      <th>Fiyat</th>\n",
       "      <th>Km</th>\n",
       "      <th>Yakit</th>\n",
       "      <th>SaticiTipi</th>\n",
       "      <th>Vites</th>\n",
       "      <th>KacinciSahip</th>\n",
       "    </tr>\n",
       "  </thead>\n",
       "  <tbody>\n",
       "    <tr>\n",
       "      <th>0</th>\n",
       "      <td>Maruti 800 AC</td>\n",
       "      <td>2007</td>\n",
       "      <td>60000</td>\n",
       "      <td>70000</td>\n",
       "      <td>Petrol</td>\n",
       "      <td>Individual</td>\n",
       "      <td>Manual</td>\n",
       "      <td>First Owner</td>\n",
       "    </tr>\n",
       "    <tr>\n",
       "      <th>1</th>\n",
       "      <td>Maruti Wagon R LXI Minor</td>\n",
       "      <td>2007</td>\n",
       "      <td>135000</td>\n",
       "      <td>50000</td>\n",
       "      <td>Petrol</td>\n",
       "      <td>Individual</td>\n",
       "      <td>Manual</td>\n",
       "      <td>First Owner</td>\n",
       "    </tr>\n",
       "    <tr>\n",
       "      <th>2</th>\n",
       "      <td>Hyundai Verna 1.6 SX</td>\n",
       "      <td>2012</td>\n",
       "      <td>600000</td>\n",
       "      <td>100000</td>\n",
       "      <td>Diesel</td>\n",
       "      <td>Individual</td>\n",
       "      <td>Manual</td>\n",
       "      <td>First Owner</td>\n",
       "    </tr>\n",
       "    <tr>\n",
       "      <th>3</th>\n",
       "      <td>Datsun RediGO T Option</td>\n",
       "      <td>2017</td>\n",
       "      <td>250000</td>\n",
       "      <td>46000</td>\n",
       "      <td>Petrol</td>\n",
       "      <td>Individual</td>\n",
       "      <td>Manual</td>\n",
       "      <td>First Owner</td>\n",
       "    </tr>\n",
       "    <tr>\n",
       "      <th>4</th>\n",
       "      <td>Honda Amaze VX i-DTEC</td>\n",
       "      <td>2014</td>\n",
       "      <td>450000</td>\n",
       "      <td>141000</td>\n",
       "      <td>Diesel</td>\n",
       "      <td>Individual</td>\n",
       "      <td>Manual</td>\n",
       "      <td>Second Owner</td>\n",
       "    </tr>\n",
       "  </tbody>\n",
       "</table>\n",
       "</div>"
      ],
      "text/plain": [
       "                      Marka   Yil   Fiyat      Km   Yakit  SaticiTipi   Vites  \\\n",
       "0             Maruti 800 AC  2007   60000   70000  Petrol  Individual  Manual   \n",
       "1  Maruti Wagon R LXI Minor  2007  135000   50000  Petrol  Individual  Manual   \n",
       "2      Hyundai Verna 1.6 SX  2012  600000  100000  Diesel  Individual  Manual   \n",
       "3    Datsun RediGO T Option  2017  250000   46000  Petrol  Individual  Manual   \n",
       "4     Honda Amaze VX i-DTEC  2014  450000  141000  Diesel  Individual  Manual   \n",
       "\n",
       "   KacinciSahip  \n",
       "0   First Owner  \n",
       "1   First Owner  \n",
       "2   First Owner  \n",
       "3   First Owner  \n",
       "4  Second Owner  "
      ]
     },
     "execution_count": 6,
     "metadata": {},
     "output_type": "execute_result"
    }
   ],
   "source": [
    "df.head()"
   ]
  },
  {
   "cell_type": "code",
   "execution_count": 7,
   "metadata": {},
   "outputs": [],
   "source": [
    "df[\"Marka\"] = le.fit_transform(df.Marka)"
   ]
  },
  {
   "cell_type": "code",
   "execution_count": null,
   "metadata": {},
   "outputs": [],
   "source": [
    "# Marka adlarını for döngüsü ile bir listeye atadık. -Alfabeye göre"
   ]
  },
  {
   "cell_type": "code",
   "execution_count": 8,
   "metadata": {
    "collapsed": true,
    "jupyter": {
     "outputs_hidden": true
    }
   },
   "outputs": [
    {
     "name": "stdout",
     "output_type": "stream",
     "text": [
      "['Ambassador CLASSIC 1500 DSL AC', 'Ambassador Classic 2000 Dsz', 'Ambassador Grand 1800 ISZ MPFI PW CL', 'Audi A4 1.8 TFSI', 'Audi A4 2.0 TDI', 'Audi A4 2.0 TDI 177 Bhp Premium Plus', 'Audi A4 3.0 TDI Quattro', 'Audi A4 30 TFSI Technology', 'Audi A4 35 TDI Premium', 'Audi A4 35 TDI Premium Plus', 'Audi A4 New  2.0 TDI Multitronic', 'Audi A5 Sportback', 'Audi A6 2.0 TDI  Design Edition', 'Audi A6 2.0 TDI Premium Plus', 'Audi A6 2.7 TDI', 'Audi A6 2.8 FSI', 'Audi A8 4.2 TDI', 'Audi A8 L 3.0 TDI quattro', 'Audi Q3 2.0 TDI Quattro Premium Plus', 'Audi Q3 35 TDI Quattro Technology', 'Audi Q5 2.0 TDI', 'Audi Q5 2.0 TFSI Quattro', 'Audi Q5 2.0 TFSI Quattro Premium Plus', 'Audi Q5 3.0 TDI Quattro Technology', 'Audi Q7 35 TDI Quattro Premium', 'Audi RS7 2015-2019 Sportback Performance', 'BMW 3 Series 320d Luxury Line', 'BMW 3 Series 320d Sport', 'BMW 3 Series 320d Sport Line', 'BMW 3 Series GT Luxury Line', 'BMW 5 Series 520d Luxury Line', 'BMW 5 Series 525d Sedan', 'BMW 5 Series 530i', 'BMW 7 Series 730Ld', 'BMW 7 Series Signature 730Ld', 'BMW X1 sDrive 20d Exclusive', 'BMW X1 sDrive 20d xLine', 'BMW X1 sDrive20d', 'BMW X1 sDrive20d M Sport', 'BMW X5 xDrive 30d xLine', 'Chevrolet Aveo 1.4', 'Chevrolet Aveo 1.4 CNG', 'Chevrolet Aveo 1.4 LS', 'Chevrolet Aveo 1.4 LT BSIV', 'Chevrolet Aveo 1.6 LT', 'Chevrolet Aveo 1.6 LT with ABS', 'Chevrolet Aveo U-VA 1.2', 'Chevrolet Aveo U-VA 1.2 LS', 'Chevrolet Aveo U-VA 1.2 LT', 'Chevrolet Aveo U-VA 1.2 LT WO ABS Airbag', 'Chevrolet Beat Diesel', 'Chevrolet Beat Diesel LS', 'Chevrolet Beat Diesel LT', 'Chevrolet Beat Diesel LT Option', 'Chevrolet Beat Diesel PS', 'Chevrolet Beat LS', 'Chevrolet Beat LT', 'Chevrolet Beat LT LPG', 'Chevrolet Beat LT Option', 'Chevrolet Beat PS', 'Chevrolet Captiva 2.0L VCDi', 'Chevrolet Captiva LT', 'Chevrolet Cruze LT', 'Chevrolet Cruze LTZ', 'Chevrolet Cruze LTZ AT', 'Chevrolet Enjoy 1.3 TCDi LS 8', 'Chevrolet Enjoy TCDi LS 8 Seater', 'Chevrolet Enjoy TCDi LT 7 Seater', 'Chevrolet Enjoy TCDi LT 8 Seater', 'Chevrolet Enjoy TCDi LTZ 7 Seater', 'Chevrolet Optra 1.6', 'Chevrolet Optra 1.6 LS', 'Chevrolet Optra Magnum 2.0 LS', 'Chevrolet Optra Magnum 2.0 LS BSIII', 'Chevrolet Optra Magnum 2.0 LT', 'Chevrolet Sail 1.2 Base', 'Chevrolet Sail 1.2 LT ABS', 'Chevrolet Sail 1.3 LS', 'Chevrolet Sail Hatchback 1.2 LS', 'Chevrolet Sail Hatchback 1.3 TCDi', 'Chevrolet Sail Hatchback 1.3 TCDi LT ABS', 'Chevrolet Sail Hatchback LS ABS', 'Chevrolet Sail Hatchback LT ABS', 'Chevrolet Sail LS ABS', 'Chevrolet Spark 1.0', 'Chevrolet Spark 1.0 LS', 'Chevrolet Spark 1.0 LT', 'Chevrolet Spark 1.0 LT BS3', 'Chevrolet Spark 1.0 LT Option Pack w/ Airbag', 'Chevrolet Spark 1.0 PS', 'Chevrolet Tavera LS B3 7 Seats BSII', 'Chevrolet Tavera LT L1 7 Seats BSIII', 'Chevrolet Tavera Neo 2 LS B4 7 Str BSIII', 'Chevrolet Tavera Neo 2 LT L 9 Str', 'Chevrolet Tavera Neo 3 10 Seats BSIV', 'Chevrolet Tavera Neo 3 9 Str BSIII', 'Chevrolet Tavera Neo 3 LS 7 C BSIII', 'Chevrolet Tavera Neo 3 LT 9 Seats BSIII', 'Chevrolet Tavera Neo 3 Max 9 Str BSIII', 'Chevrolet Tavera Neo LS B3 - 7(C) seats BSIII', 'Daewoo Matiz SD', 'Datsun GO A', 'Datsun GO Plus A', 'Datsun GO Plus A Option Petrol', 'Datsun GO Plus Remix Limited Edition', 'Datsun GO Plus T', 'Datsun GO Plus T BSIV', 'Datsun GO Plus T Option', 'Datsun GO Plus T Option BSIV', 'Datsun GO Plus T Option Petrol', 'Datsun GO T BSIV', 'Datsun GO T Option BSIV', 'Datsun GO T Petrol', 'Datsun RediGO 1.0 S', 'Datsun RediGO 1.0 T Option', 'Datsun RediGO AMT 1.0 S', 'Datsun RediGO S', 'Datsun RediGO SV 1.0', 'Datsun RediGO T Option', 'Datsun redi-GO AMT 1.0 T Option', 'Fiat 500 Lounge', 'Fiat Avventura MULTIJET Emotion', 'Fiat Avventura Urban Cross 1.3 Multijet Emotion', 'Fiat Grande Punto 1.3 Dynamic (Diesel)', 'Fiat Grande Punto Active (Diesel)', 'Fiat Grande Punto EVO 1.3 Active', 'Fiat Grande Punto EVO 1.3 Dynamic', 'Fiat Grande Punto EVO 90HP 1.3 Sport', 'Fiat Grande Punto Emotion 90Hp', 'Fiat Linea 1.3 Emotion', 'Fiat Linea 1.3 Multijet Emotion', 'Fiat Linea Active (Diesel)', 'Fiat Linea Classic 1.3 Multijet', 'Fiat Linea Dynamic', 'Fiat Linea Emotion', 'Fiat Linea Emotion (Diesel)', 'Fiat Linea T Jet Emotion', 'Fiat Linea T Jet Plus', 'Fiat Palio 1.2 Sport', 'Fiat Palio D 1.9 EL PS', 'Fiat Punto 1.2 Active', 'Fiat Punto 1.3 Active', 'Fiat Punto 1.3 Emotion', 'Fiat Punto 1.4 Emotion', 'Fiat Punto EVO 1.3 Dynamic', 'Fiat Punto EVO 1.3 Emotion', 'Force One EX', 'Ford Aspire Titanium BSIV', 'Ford Aspire Titanium Diesel BSIV', 'Ford Aspire Titanium Plus BSIV', 'Ford Aspire Titanium Plus Diesel BSIV', 'Ford Classic 1.4 Duratorq LXI', 'Ford Classic 1.6 Duratec LXI', 'Ford EcoSport 1.5 Diesel Ambiente BSIV', 'Ford EcoSport 1.5 Diesel Titanium BSIV', 'Ford EcoSport 1.5 Diesel Titanium Plus BSIV', 'Ford EcoSport 1.5 Diesel Trend BSIV', 'Ford EcoSport 1.5 Diesel Trend Plus BSIV', 'Ford EcoSport 1.5 Petrol Titanium BSIV', 'Ford EcoSport 1.5 Petrol Titanium Plus AT BSIV', 'Ford EcoSport 1.5 TDCi Titanium BSIV', 'Ford EcoSport 1.5 TDCi Titanium Plus BE BSIV', 'Ford EcoSport 1.5 TDCi Titanium Plus BSIV', 'Ford EcoSport 1.5 Ti VCT MT Titanium BE BSIV', 'Ford EcoSport 1.5 Ti VCT MT Titanium BSIV', 'Ford EcoSport 1.5 Ti VCT MT Trend BSIV', 'Ford Ecosport 1.0 Ecoboost Platinum Edition BSIV', 'Ford Ecosport 1.0 Ecoboost Titanium', 'Ford Ecosport 1.0 Ecoboost Titanium Optional', 'Ford Ecosport 1.5 DV5 MT Ambiente', 'Ford Ecosport 1.5 DV5 MT Titanium', 'Ford Ecosport 1.5 DV5 MT Titanium Optional', 'Ford Ecosport 1.5 DV5 MT Trend', 'Ford Ecosport 1.5 Diesel Titanium', 'Ford Ecosport 1.5 Diesel Titanium Plus', 'Ford Ecosport 1.5 Petrol Ambiente', 'Ford Ecosport 1.5 Petrol Titanium Plus', 'Ford Ecosport 1.5 Petrol Titanium Plus AT', 'Ford Ecosport 1.5 Petrol Trend', 'Ford Ecosport 1.5 Ti VCT AT Titanium', 'Ford Ecosport Sports Petrol', 'Ford Ecosport Thunder Edition Diesel', 'Ford Endeavour 2.2 Titanium AT 4X2', 'Ford Endeavour 2.5L 4X2', 'Ford Endeavour 2.5L 4X2 MT', 'Ford Endeavour 3.0L 4X4 AT', 'Ford Endeavour 3.2 Titanium AT 4X4', 'Ford Endeavour 4x2 XLT', 'Ford Endeavour 4x4 XLT', 'Ford Endeavour Hurricane Limited Edition', 'Ford Endeavour Titanium 4X2', 'Ford Endeavour Titanium Plus 4X4', 'Ford Endeavour XLT TDCi 4X2', 'Ford Fiesta 1.4 Duratec ZXI', 'Ford Fiesta 1.4 SXi TDCi', 'Ford Fiesta 1.4 SXi TDCi ABS', 'Ford Fiesta 1.4 ZXi Duratec', 'Ford Fiesta 1.4 ZXi Leather', 'Ford Fiesta 1.4 ZXi TDCi ABS', 'Ford Fiesta 1.5 TDCi Ambiente', 'Ford Fiesta 1.5 TDCi Titanium', 'Ford Fiesta 1.6 Duratec EXI Ltd', 'Ford Fiesta 1.6 Duratec S', 'Ford Fiesta 1.6 ZXi Duratec', 'Ford Fiesta 1.6 ZXi Leather', 'Ford Fiesta Classic 1.4 Duratorq CLXI', 'Ford Fiesta Classic 1.4 SXI Duratorq', 'Ford Fiesta Classic 1.6 Duratec CLXI', 'Ford Fiesta Diesel Style', 'Ford Fiesta Diesel Trend', 'Ford Fiesta Petrol Trend', 'Ford Fiesta Titanium 1.5 TDCi', 'Ford Figo 1.2P Ambiente MT', 'Ford Figo 1.2P Titanium MT', 'Ford Figo 1.2P Titanium Plus MT', 'Ford Figo 1.5 Sports Edition MT', 'Ford Figo 1.5D Ambiente ABS MT', 'Ford Figo 1.5D Titanium MT', 'Ford Figo 1.5D Titanium Opt MT', 'Ford Figo 1.5D Trend MT', 'Ford Figo 1.5P Titanium AT', 'Ford Figo Aspire 1.2 Ti-VCT Titanium Plus', 'Ford Figo Aspire 1.2 Ti-VCT Trend', 'Ford Figo Aspire 1.5 TDCi Ambiente ABS', 'Ford Figo Aspire 1.5 TDCi Titanium', 'Ford Figo Aspire 1.5 TDCi Titanium Plus', 'Ford Figo Aspire 1.5 TDCi Trend', 'Ford Figo Aspire 1.5 Ti-VCT Titanium', 'Ford Figo Aspire Facelift', 'Ford Figo Aspire Titanium Plus Diesel', 'Ford Figo Diesel Celebration Edition', 'Ford Figo Diesel EXI', 'Ford Figo Diesel LXI', 'Ford Figo Diesel Titanium', 'Ford Figo Diesel ZXI', 'Ford Figo Petrol EXI', 'Ford Figo Petrol LXI', 'Ford Figo Petrol Titanium', 'Ford Figo Petrol ZXI', 'Ford Figo Titanium', 'Ford Figo Titanium Diesel BSIV', 'Ford Figo Trend', 'Ford Freestyle Titanium', 'Ford Freestyle Titanium Diesel', 'Ford Freestyle Titanium Diesel BSIV', 'Ford Freestyle Titanium Plus', 'Ford Freestyle Titanium Plus Diesel', 'Ford Freestyle Titanium Plus Diesel BSIV', 'Ford Freestyle Trend Petrol BSIV', 'Ford Fusion 1.6 Duratec Petrol', 'Ford Ikon 1.3 Flair', 'Ford Ikon 1.3L Rocam Flair', 'Ford Ikon 1.4 TDCi DuraTorq', 'Ford Ikon 1.4 ZXi', 'Ford Ikon 1.6 ZXI NXt', 'Ford Ikon 1.8 D', 'Honda Accord 2.4 AT', 'Honda Accord 2.4 MT', 'Honda Accord VTi-L (MT)', 'Honda Amaze E i-DTEC', 'Honda Amaze E i-Dtech', 'Honda Amaze E i-VTEC', 'Honda Amaze E i-Vtech', 'Honda Amaze EX i-Dtech', 'Honda Amaze S AT i-Vtech', 'Honda Amaze S CVT Petrol', 'Honda Amaze S Diesel', 'Honda Amaze S Petrol BSIV', 'Honda Amaze S i-DTEC', 'Honda Amaze S i-Dtech', 'Honda Amaze S i-VTEC', 'Honda Amaze S i-Vtech', 'Honda Amaze SX i-VTEC', 'Honda Amaze V CVT Petrol BSIV', 'Honda Amaze V Diesel BSIV', 'Honda Amaze VX AT i-Vtech', 'Honda Amaze VX Diesel BSIV', 'Honda Amaze VX O iDTEC', 'Honda Amaze VX Petrol BSIV', 'Honda Amaze VX i-DTEC', 'Honda Amaze VX i-VTEC', 'Honda BR-V i-DTEC VX MT', 'Honda BR-V i-VTEC S MT', 'Honda BR-V i-VTEC VX MT', 'Honda BRV i-DTEC V MT', 'Honda BRV i-VTEC V MT', 'Honda Brio 1.2 E MT', 'Honda Brio 1.2 S MT', 'Honda Brio 1.2 S Option MT', 'Honda Brio 1.2 VX MT', 'Honda Brio E MT', 'Honda Brio Exclusive Edition', 'Honda Brio S MT', 'Honda Brio S Option AT', 'Honda Brio V MT', 'Honda Brio VX', 'Honda CR-V Diesel 4WD', 'Honda City 1.3 DX', 'Honda City 1.3 EXI', 'Honda City 1.5 E MT', 'Honda City 1.5 EXI', 'Honda City 1.5 EXI S', 'Honda City 1.5 GXI', 'Honda City 1.5 S MT', 'Honda City 1.5 V AT', 'Honda City 1.5 V AT Exclusive', 'Honda City 1.5 V Elegance', 'Honda City 1.5 V MT', 'Honda City Corporate Edition', 'Honda City E', 'Honda City Edge Edition Diesel SV', 'Honda City S', 'Honda City V AT', 'Honda City V MT', 'Honda City VTEC', 'Honda City VX CVT', 'Honda City VX MT', 'Honda City i DTEC E', 'Honda City i DTEC S', 'Honda City i DTEC SV', 'Honda City i DTEC V', 'Honda City i DTEC VX', 'Honda City i DTec SV', 'Honda City i DTec V', 'Honda City i VTEC S', 'Honda City i VTEC SV', 'Honda City i VTEC V', 'Honda City i VTEC VX', 'Honda City i-DTEC SV', 'Honda City i-DTEC V', 'Honda City i-DTEC VX', 'Honda City i-DTEC ZX', 'Honda City i-VTEC CVT VX', 'Honda City i-VTEC CVT ZX', 'Honda City i-VTEC SV', 'Honda City i-VTEC VX', 'Honda City i-VTEC ZX', 'Honda Civic 1.8 (E) MT', 'Honda Civic 1.8 MT Sport', 'Honda Civic 1.8 S AT', 'Honda Civic 1.8 S MT', 'Honda Civic 1.8 V AT', 'Honda Civic 1.8 V MT', 'Honda Jazz 1.2 S i VTEC', 'Honda Jazz 1.2 V i VTEC', 'Honda Jazz 1.2 VX i VTEC', 'Honda Jazz 1.5 E i DTEC', 'Honda Jazz 1.5 S i DTEC', 'Honda Jazz 1.5 SV i DTEC', 'Honda Jazz 1.5 V i DTEC', 'Honda Jazz 1.5 VX i DTEC', 'Honda Jazz S', 'Honda Jazz Select Edition', 'Honda Jazz Select Edition Active', 'Honda Jazz V', 'Honda Jazz VX', 'Honda Jazz VX CVT', 'Honda Mobilio E i DTEC', 'Honda Mobilio S i DTEC', 'Honda Mobilio S i VTEC', 'Honda Mobilio V i DTEC', 'Honda Mobilio V i VTEC', 'Honda WR-V i-DTEC V', 'Honda WR-V i-DTEC VX', 'Honda WR-V i-VTEC VX', 'Hyundai Accent CRDi', 'Hyundai Accent Executive', 'Hyundai Accent Executive CNG', 'Hyundai Accent GLE', 'Hyundai Accent GLE 1', 'Hyundai Accent GLE CNG', 'Hyundai Accent GLS', 'Hyundai Accent GLS 1.6 ABS', 'Hyundai Accent GLX', 'Hyundai Creta 1.4 CRDi Base', 'Hyundai Creta 1.4 CRDi S', 'Hyundai Creta 1.4 CRDi S Plus', 'Hyundai Creta 1.4 E Plus', 'Hyundai Creta 1.4 EX Diesel', 'Hyundai Creta 1.6 CRDi AT SX Plus', 'Hyundai Creta 1.6 CRDi SX', 'Hyundai Creta 1.6 CRDi SX Option', 'Hyundai Creta 1.6 CRDi SX Plus', 'Hyundai Creta 1.6 E Plus', 'Hyundai Creta 1.6 Gamma SX Plus', 'Hyundai Creta 1.6 SX', 'Hyundai Creta 1.6 SX Automatic', 'Hyundai Creta 1.6 SX Automatic Diesel', 'Hyundai Creta 1.6 SX Option', 'Hyundai Creta 1.6 VTVT AT SX Plus', 'Hyundai Creta 1.6 VTVT S', 'Hyundai EON 1.0 Era Plus', 'Hyundai EON 1.0 Kappa Magna Plus', 'Hyundai EON D Lite', 'Hyundai EON D Lite Plus', 'Hyundai EON Era', 'Hyundai EON Era Plus', 'Hyundai EON Era Plus Option', 'Hyundai EON Era Plus Sports Edition', 'Hyundai EON LPG Magna Plus', 'Hyundai EON Magna', 'Hyundai EON Magna Optional', 'Hyundai EON Magna Plus', 'Hyundai EON Magna Plus Option', 'Hyundai EON Sportz', 'Hyundai Elantra 2.0 SX AT', 'Hyundai Elantra CRDi (Leather Option)', 'Hyundai Elantra CRDi S', 'Hyundai Elantra CRDi SX', 'Hyundai Elantra SX', 'Hyundai Elite i20 Asta Option BSIV', 'Hyundai Elite i20 Asta Option CVT BSIV', 'Hyundai Elite i20 Diesel Asta Option', 'Hyundai Elite i20 Diesel Era', 'Hyundai Elite i20 Magna Plus BSIV', 'Hyundai Elite i20 Magna Plus Diesel', 'Hyundai Elite i20 Petrol Asta Option', 'Hyundai Elite i20 Petrol Magna Exective', 'Hyundai Elite i20 Sportz Plus BSIV', 'Hyundai Elite i20 Sportz Plus CVT BSIV', 'Hyundai Elite i20 Sportz Plus Dual Tone BSIV', 'Hyundai Getz 1.3 GLS', 'Hyundai Getz 1.3 GVS', 'Hyundai Getz 1.5 CRDi GVS', 'Hyundai Getz GL', 'Hyundai Getz GLE', 'Hyundai Getz GLS', 'Hyundai Getz GLS ABS', 'Hyundai Getz GLX', 'Hyundai Grand i10 1.2 CRDi Asta', 'Hyundai Grand i10 1.2 CRDi Magna', 'Hyundai Grand i10 1.2 CRDi Sportz Option', 'Hyundai Grand i10 1.2 Kappa Asta', 'Hyundai Grand i10 1.2 Kappa Era', 'Hyundai Grand i10 1.2 Kappa Magna AT', 'Hyundai Grand i10 1.2 Kappa Magna BSIV', 'Hyundai Grand i10 1.2 Kappa Sportz AT', 'Hyundai Grand i10 1.2 Kappa Sportz BSIV', 'Hyundai Grand i10 1.2 Kappa Sportz Dual Tone', 'Hyundai Grand i10 1.2 Kappa Sportz Option', 'Hyundai Grand i10 AT Asta', 'Hyundai Grand i10 Asta', 'Hyundai Grand i10 Asta Option', 'Hyundai Grand i10 Asta Option AT', 'Hyundai Grand i10 CRDi Asta', 'Hyundai Grand i10 CRDi Asta Option', 'Hyundai Grand i10 CRDi Magna', 'Hyundai Grand i10 CRDi Sportz', 'Hyundai Grand i10 Magna', 'Hyundai Grand i10 Magna AT', 'Hyundai Grand i10 Nios AMT Magna', 'Hyundai Grand i10 Nios Magna CRDi', 'Hyundai Grand i10 Nios Sportz', 'Hyundai Grand i10 Sportz', 'Hyundai Santa Fe 4WD AT', 'Hyundai Santa Fe 4X4', 'Hyundai Santro AT', 'Hyundai Santro AT CNG', 'Hyundai Santro Asta', 'Hyundai Santro Era', 'Hyundai Santro GLS I - Euro I', 'Hyundai Santro GLS I - Euro II', 'Hyundai Santro GS', 'Hyundai Santro LE', 'Hyundai Santro LE zipPlus', 'Hyundai Santro LP zipPlus', 'Hyundai Santro LS zipPlus', 'Hyundai Santro Magna AMT BSIV', 'Hyundai Santro Magna BSIV', 'Hyundai Santro Magna CNG BSIV', 'Hyundai Santro Sportz AMT', 'Hyundai Santro Sportz BSIV', 'Hyundai Santro Xing GL', 'Hyundai Santro Xing GL PLUS CNG', 'Hyundai Santro Xing GL Plus', 'Hyundai Santro Xing GL Plus LPG', 'Hyundai Santro Xing GLS', 'Hyundai Santro Xing GLS Audio LPG', 'Hyundai Santro Xing GLS CNG', 'Hyundai Santro Xing XG', 'Hyundai Santro Xing XG AT', 'Hyundai Santro Xing XG eRLX Euro III', 'Hyundai Santro Xing XK', 'Hyundai Santro Xing XK (Non-AC)', 'Hyundai Santro Xing XK eRLX EuroIII', 'Hyundai Santro Xing XL AT eRLX Euro III', 'Hyundai Santro Xing XL eRLX Euro III', 'Hyundai Santro Xing XO', 'Hyundai Santro Xing XS', 'Hyundai Santro Xing XS eRLX Euro III', 'Hyundai Sonata 2.4L AT', 'Hyundai Sonata AT Leather', 'Hyundai Sonata CRDi M/T', 'Hyundai Tucson 2.0 e-VGT 2WD AT GL', 'Hyundai Tucson 2.0 e-VGT 2WD MT', 'Hyundai Tucson CRDi', 'Hyundai Venue SX Opt Diesel', 'Hyundai Venue SX Opt Turbo BSIV', 'Hyundai Verna 1.4 CRDi', 'Hyundai Verna 1.4 EX', 'Hyundai Verna 1.4 VTVT', 'Hyundai Verna 1.6 CRDI', 'Hyundai Verna 1.6 CRDI SX Option', 'Hyundai Verna 1.6 CRDi AT SX', 'Hyundai Verna 1.6 CRDi SX', 'Hyundai Verna 1.6 SX', 'Hyundai Verna 1.6 SX CRDi (O)', 'Hyundai Verna 1.6 SX VTVT', 'Hyundai Verna 1.6 SX VTVT (O)', 'Hyundai Verna 1.6 SX VTVT AT', 'Hyundai Verna 1.6 VTVT', 'Hyundai Verna 1.6 VTVT AT S Option', 'Hyundai Verna 1.6 VTVT S', 'Hyundai Verna 1.6 VTVT SX', 'Hyundai Verna 1.6 Xi ABS', 'Hyundai Verna 1.6 i ABS', 'Hyundai Verna CRDi', 'Hyundai Verna CRDi 1.6 AT EX', 'Hyundai Verna CRDi 1.6 AT SX Option', 'Hyundai Verna CRDi 1.6 EX', 'Hyundai Verna CRDi 1.6 SX', 'Hyundai Verna CRDi 1.6 SX Option', 'Hyundai Verna CRDi ABS', 'Hyundai Verna CRDi SX', 'Hyundai Verna CRDi SX ABS', 'Hyundai Verna SX', 'Hyundai Verna SX AT Diesel', 'Hyundai Verna SX CRDi AT', 'Hyundai Verna SX Diesel', 'Hyundai Verna Transform CRDi VGT ABS', 'Hyundai Verna Transform CRDi VGT SX ABS', 'Hyundai Verna Transform SX VTVT', 'Hyundai Verna Transform VTVT', 'Hyundai Verna VTVT 1.6 AT SX Option', 'Hyundai Verna VTVT 1.6 SX', 'Hyundai Verna XXi (Petrol)', 'Hyundai Verna i (Petrol)', 'Hyundai Xcent 1.1 CRDi Base', 'Hyundai Xcent 1.1 CRDi S', 'Hyundai Xcent 1.1 CRDi SX', 'Hyundai Xcent 1.1 CRDi SX Option', 'Hyundai Xcent 1.2 CRDi E', 'Hyundai Xcent 1.2 CRDi S', 'Hyundai Xcent 1.2 CRDi SX', 'Hyundai Xcent 1.2 Kappa Base', 'Hyundai Xcent 1.2 Kappa S', 'Hyundai Xcent 1.2 Kappa SX', 'Hyundai Xcent 1.2 VTVT E Plus', 'Hyundai Xcent 1.2 VTVT S', 'Hyundai Xcent 1.2 VTVT S AT', 'Hyundai i10 Asta AT', 'Hyundai i10 Era', 'Hyundai i10 Era 1.1', 'Hyundai i10 Era 1.1 iTech SE', 'Hyundai i10 Magna', 'Hyundai i10 Magna 1.1', 'Hyundai i10 Magna 1.1 iTech SE', 'Hyundai i10 Magna 1.1L', 'Hyundai i10 Magna 1.2', 'Hyundai i10 Magna 1.2 iTech SE', 'Hyundai i10 Magna LPG', 'Hyundai i10 Sportz', 'Hyundai i10 Sportz 1.1L', 'Hyundai i10 Sportz 1.2', 'Hyundai i10 Sportz 1.2 AT', 'Hyundai i10 Sportz AT', 'Hyundai i20 1.2 Asta', 'Hyundai i20 1.2 Asta Dual Tone', 'Hyundai i20 1.2 Asta Option', 'Hyundai i20 1.2 Era', 'Hyundai i20 1.2 Magna', 'Hyundai i20 1.2 Magna Executive', 'Hyundai i20 1.2 Sportz', 'Hyundai i20 1.2 Spotz', 'Hyundai i20 1.4 Asta Option', 'Hyundai i20 1.4 CRDi Asta', 'Hyundai i20 1.4 CRDi Era', 'Hyundai i20 1.4 CRDi Magna', 'Hyundai i20 1.4 CRDi Sportz', 'Hyundai i20 1.4 Magna ABS', 'Hyundai i20 1.4 Magna Executive', 'Hyundai i20 1.4 Sportz', 'Hyundai i20 2015-2017 Magna 1.2', 'Hyundai i20 2015-2017 Sportz Option 1.4 CRDi', 'Hyundai i20 Active 1.2 S', 'Hyundai i20 Active 1.2 SX', 'Hyundai i20 Active 1.4 SX', 'Hyundai i20 Active 1.4 SX with AVN', 'Hyundai i20 Active S Diesel', 'Hyundai i20 Active S Petrol', 'Hyundai i20 Active SX Petrol', 'Hyundai i20 Asta', 'Hyundai i20 Asta (o)', 'Hyundai i20 Asta (o) 1.4 CRDi (Diesel)', 'Hyundai i20 Asta 1.2', 'Hyundai i20 Asta 1.4 CRDi', 'Hyundai i20 Asta 1.4 CRDi (Diesel)', 'Hyundai i20 Asta Option 1.2', 'Hyundai i20 Asta Option 1.4 CRDi', 'Hyundai i20 Magna', 'Hyundai i20 Magna 1.2', 'Hyundai i20 Magna 1.4 CRDi', 'Hyundai i20 Magna 1.4 CRDi (Diesel)', 'Hyundai i20 Magna Optional 1.2', 'Hyundai i20 Magna Optional 1.4 CRDi', 'Hyundai i20 Sportz 1.2', 'Hyundai i20 Sportz 1.4 CRDi', 'Hyundai i20 Sportz Option 1.2', 'Hyundai i20 Sportz Petrol', 'Isuzu D-Max V-Cross Standard', 'Jaguar XF 2.2 Litre Luxury', 'Jaguar XF 3.0 Litre S Premium Luxury', 'Jaguar XF 5.0 Litre V8 Petrol', 'Jaguar XJ 5.0 L V8 Supercharged', 'Jeep Compass 1.4 Sport Plus BSIV', 'Jeep Compass 2.0 Longitude Option BSIV', 'Kia Seltos HTK Plus AT D', 'Land Rover Discovery S 2.0 SD4', 'Land Rover Discovery Sport SD4 HSE Luxury', 'Land Rover Discovery Sport TD4 HSE 7S', 'Land Rover Range Rover 4.4 Diesel LWB Vogue SE', 'Land Rover Range Rover Evoque 2.2L Dynamic', 'MG Hector Sharp Diesel MT BSIV', 'MG Hector Smart AT', 'Mahindra Alturas G4 4X2 AT BSIV', 'Mahindra Bolero 2011-2019 SLE', 'Mahindra Bolero 2011-2019 SLX', 'Mahindra Bolero 2011-2019 SLX 2WD BSIII', 'Mahindra Bolero B4', 'Mahindra Bolero B6', 'Mahindra Bolero DI', 'Mahindra Bolero DI DX 7 Seater', 'Mahindra Bolero DI DX 8 Seater', 'Mahindra Bolero Power Plus LX', 'Mahindra Bolero Power Plus Plus AC BSIV PS', 'Mahindra Bolero Power Plus Plus Non AC BSIV PS', 'Mahindra Bolero Power Plus SLE', 'Mahindra Bolero Power Plus SLX', 'Mahindra Bolero Power Plus ZLX', 'Mahindra Bolero SLE', 'Mahindra Bolero SLE BSIII', 'Mahindra Bolero SLX', 'Mahindra Bolero SLX 2WD', 'Mahindra Bolero SLX 2WD BSIII', 'Mahindra Bolero SLX 4WD BSIII', 'Mahindra Ingenio CRDe', 'Mahindra Jeep CJ 500 DI', 'Mahindra Jeep CL 500 MDI', 'Mahindra Jeep Classic', 'Mahindra Jeep MM 540', 'Mahindra Jeep MM 550 XDB', 'Mahindra Jeep MM 775 XDB', 'Mahindra KUV 100 D75 K2', 'Mahindra KUV 100 D75 K4 Plus 5Str', 'Mahindra KUV 100 D75 K6 Plus', 'Mahindra KUV 100 G80 K2', 'Mahindra KUV 100 G80 K4 Plus', 'Mahindra KUV 100 mFALCON D75 K6', 'Mahindra KUV 100 mFALCON D75 K8', 'Mahindra KUV 100 mFALCON D75 K8 AW', 'Mahindra KUV 100 mFALCON G80 K2', 'Mahindra KUV 100 mFALCON G80 K2 Plus', 'Mahindra KUV 100 mFALCON G80 K8 5str', 'Mahindra Marazzo M2 8Str', 'Mahindra Marazzo M4', 'Mahindra Marazzo M8 8Str', 'Mahindra NuvoSport N8', 'Mahindra Quanto C4', 'Mahindra Quanto C6', 'Mahindra Quanto C8', 'Mahindra Renault Logan 1.4 GLX Petrol', 'Mahindra Renault Logan 1.5 DLE Diesel', 'Mahindra Renault Logan 1.5 DLS', 'Mahindra Renault Logan 1.5 DLX Diesel', 'Mahindra Renault Logan 1.6 Petrol GLSX', 'Mahindra Scorpio 1.99 S10', 'Mahindra Scorpio 1.99 S4', 'Mahindra Scorpio 1.99 S6 Plus', 'Mahindra Scorpio 2.6 CRDe', 'Mahindra Scorpio 2.6 CRDe SLE', 'Mahindra Scorpio 2.6 SLX CRDe', 'Mahindra Scorpio 2.6 SLX Turbo 7 Seater', 'Mahindra Scorpio 2.6 Turbo 7 Str', 'Mahindra Scorpio 2.6 Turbo 9 Str', 'Mahindra Scorpio BSIV', 'Mahindra Scorpio EX', 'Mahindra Scorpio LX', 'Mahindra Scorpio LX BSIV', 'Mahindra Scorpio M2DI', 'Mahindra Scorpio REV 116', 'Mahindra Scorpio S10 7 Seater', 'Mahindra Scorpio S11 BSIV', 'Mahindra Scorpio S2 7 Seater', 'Mahindra Scorpio S2 9 Seater', 'Mahindra Scorpio S4 4WD', 'Mahindra Scorpio S5 BSIV', 'Mahindra Scorpio S6 Plus 7 Seater', 'Mahindra Scorpio S7 140 BSIV', 'Mahindra Scorpio S9 BSIV', 'Mahindra Scorpio SLE BS IV', 'Mahindra Scorpio SLE BSIII', 'Mahindra Scorpio SLE BSIV', 'Mahindra Scorpio SLX 2.6 Turbo 8 Str', 'Mahindra Scorpio VLS 2.2 mHawk', 'Mahindra Scorpio VLS AT 2.2 mHAWK', 'Mahindra Scorpio VLX 2.2 mHawk Airbag BSIV', 'Mahindra Scorpio VLX 2WD ABS AT BSIII', 'Mahindra Scorpio VLX 2WD AIRBAG BSIV', 'Mahindra Scorpio VLX 2WD AIRBAG SE BSIV', 'Mahindra Scorpio VLX 2WD AT BSIV', 'Mahindra Scorpio VLX 2WD BSIII', 'Mahindra Scorpio VLX 2WD BSIV', 'Mahindra Scorpio VLX AT 2WD BSIII', 'Mahindra Supro VX 8 Str', 'Mahindra TUV 300 Plus P4', 'Mahindra TUV 300 T10', 'Mahindra TUV 300 T10 Dual Tone', 'Mahindra TUV 300 T4', 'Mahindra TUV 300 T4 Plus', 'Mahindra TUV 300 T6 Plus', 'Mahindra TUV 300 T8', 'Mahindra TUV 300 T8 AMT', 'Mahindra TUV 300 mHAWK100 T8', 'Mahindra Thar 4X2', 'Mahindra Thar 4X4', 'Mahindra Thar CRDe', 'Mahindra Thar CRDe ABS', 'Mahindra Thar CRDe AC', 'Mahindra Thar DI 4X2', 'Mahindra Thar DI 4X4 PS', 'Mahindra Verito 1.5 D2 BSIII', 'Mahindra Verito 1.5 D2 BSIV', 'Mahindra Verito 1.5 D4 BSIV', 'Mahindra Verito 1.5 D6 BSIII', 'Mahindra Verito Vibe 1.5 dCi D4', 'Mahindra Verito Vibe 1.5 dCi D6', 'Mahindra XUV300 W8 Option', 'Mahindra XUV300 W8 Option Diesel BSIV', 'Mahindra XUV500 AT W10 1.99 mHawk', 'Mahindra XUV500 AT W10 AWD', 'Mahindra XUV500 AT W10 FWD', 'Mahindra XUV500 AT W6 2WD', 'Mahindra XUV500 AT W8 FWD', 'Mahindra XUV500 W10 1.99 mHawk', 'Mahindra XUV500 W10 2WD', 'Mahindra XUV500 W10 AWD', 'Mahindra XUV500 W11 AT BSIV', 'Mahindra XUV500 W11 Option AT AWD', 'Mahindra XUV500 W11 Option AWD', 'Mahindra XUV500 W5 BSIV', 'Mahindra XUV500 W6 1.99 mHawk', 'Mahindra XUV500 W6 2WD', 'Mahindra XUV500 W7', 'Mahindra XUV500 W7 AT BSIV', 'Mahindra XUV500 W7 BSIV', 'Mahindra XUV500 W8 2WD', 'Mahindra XUV500 W8 4WD', 'Mahindra Xylo Celebration Edition BSIV', 'Mahindra Xylo D2', 'Mahindra Xylo D2 BS IV', 'Mahindra Xylo D2 BSIV', 'Mahindra Xylo D2 Maxx', 'Mahindra Xylo D4', 'Mahindra Xylo D4 BSIV', 'Mahindra Xylo E4', 'Mahindra Xylo E4 8S', 'Mahindra Xylo E4 ABS BS IV', 'Mahindra Xylo E4 BS III', 'Mahindra Xylo E6', 'Mahindra Xylo E8', 'Mahindra Xylo E8 ABS Airbag BSIV', 'Mahindra Xylo E9', 'Mahindra Xylo H4', 'Mahindra Xylo H4 ABS', 'Mahindra Xylo H8 ABS with Airbags', 'Maruti 800 AC', 'Maruti 800 AC BSII', 'Maruti 800 AC BSIII', 'Maruti 800 AC Uniq', 'Maruti 800 DUO AC LPG', 'Maruti 800 DX', 'Maruti 800 EX', 'Maruti 800 Std', 'Maruti 800 Std BSII', 'Maruti 800 Std BSIII', 'Maruti 800 Std MPFi', 'Maruti A-Star AT VXI', 'Maruti A-Star Lxi', 'Maruti A-Star Vxi', 'Maruti Alto 800 Base', 'Maruti Alto 800 CNG LXI', 'Maruti Alto 800 CNG LXI Optional', 'Maruti Alto 800 LX', 'Maruti Alto 800 LXI', 'Maruti Alto 800 LXI Airbag', 'Maruti Alto 800 LXI CNG', 'Maruti Alto 800 LXI Opt BSIV', 'Maruti Alto 800 LXI Optional', 'Maruti Alto 800 Std Optional', 'Maruti Alto 800 VXI', 'Maruti Alto Green LXi (CNG)', 'Maruti Alto K10 2010-2014 VXI', 'Maruti Alto K10 LX', 'Maruti Alto K10 LXI', 'Maruti Alto K10 LXI CNG', 'Maruti Alto K10 LXI CNG Optional', 'Maruti Alto K10 VXI', 'Maruti Alto K10 VXI AGS', 'Maruti Alto K10 VXI AGS Optional', 'Maruti Alto K10 VXI Airbag', 'Maruti Alto K10 VXI Optional', 'Maruti Alto LX', 'Maruti Alto LX BSIII', 'Maruti Alto LXI', 'Maruti Alto LXi', 'Maruti Alto LXi BSII', 'Maruti Alto LXi BSIII', 'Maruti Alto STD', 'Maruti Alto VXi', 'Maruti Baleno Alpha', 'Maruti Baleno Alpha 1.2', 'Maruti Baleno Alpha 1.3', 'Maruti Baleno Alpha CVT', 'Maruti Baleno Delta 1.2', 'Maruti Baleno Delta 1.3', 'Maruti Baleno Delta Automatic', 'Maruti Baleno Delta Diesel', 'Maruti Baleno RS 1.0 Petrol', 'Maruti Baleno Sigma 1.2', 'Maruti Baleno Vxi', 'Maruti Baleno Zeta', 'Maruti Baleno Zeta 1.2', 'Maruti Baleno Zeta 1.3', 'Maruti Baleno Zeta Automatic', 'Maruti Celerio Green VXI', 'Maruti Celerio LXI MT BSIV', 'Maruti Celerio VDi', 'Maruti Celerio VXI', 'Maruti Celerio VXI AMT BSIV', 'Maruti Celerio VXI AT', 'Maruti Celerio VXI Optional', 'Maruti Celerio X ZXI BSIV', 'Maruti Celerio ZDi', 'Maruti Celerio ZXI', 'Maruti Celerio ZXI AMT BSIV', 'Maruti Celerio ZXI AT', 'Maruti Celerio ZXI MT BSIV', 'Maruti Celerio ZXI Optional AMT BSIV', 'Maruti Ciaz 1.3 Delta', 'Maruti Ciaz 1.4 AT Zeta', 'Maruti Ciaz 1.4 Alpha', 'Maruti Ciaz 1.4 Delta', 'Maruti Ciaz 1.4 Zeta', 'Maruti Ciaz S 1.3', 'Maruti Ciaz Sigma BSIV', 'Maruti Ciaz VDI SHVS', 'Maruti Ciaz VDi', 'Maruti Ciaz VDi Option SHVS', 'Maruti Ciaz VDi Plus', 'Maruti Ciaz VDi Plus SHVS', 'Maruti Ciaz VXi', 'Maruti Ciaz VXi Plus', 'Maruti Ciaz ZDi', 'Maruti Ciaz ZDi Plus', 'Maruti Ciaz ZDi Plus SHVS', 'Maruti Ciaz ZDi SHVS', 'Maruti Ciaz ZXi', 'Maruti Ciaz ZXi Plus', 'Maruti Ciaz Zeta BSIV', 'Maruti Eeco 5 STR With AC Plus HTR CNG', 'Maruti Eeco 5 Seater AC BSIV', 'Maruti Eeco 5 Seater Standard BSIV', 'Maruti Eeco 7 Seater Standard BSIV', 'Maruti Eeco CNG 5 Seater AC BSIV', 'Maruti Eeco Smiles 5 Seater AC', 'Maruti Ertiga 1.5 VDI', 'Maruti Ertiga BSIV VXI AT', 'Maruti Ertiga BSIV ZXI', 'Maruti Ertiga SHVS LDI', 'Maruti Ertiga SHVS LDI Option', 'Maruti Ertiga SHVS VDI', 'Maruti Ertiga SHVS ZDI', 'Maruti Ertiga SHVS ZDI Plus', 'Maruti Ertiga VDI', 'Maruti Ertiga VDI Limited Edition', 'Maruti Ertiga VXI', 'Maruti Ertiga VXI ABS', 'Maruti Ertiga VXI CNG', 'Maruti Ertiga VXI Petrol', 'Maruti Ertiga ZDI', 'Maruti Ertiga ZDI Plus', 'Maruti Ertiga ZXI', 'Maruti Ertiga ZXI AT Petrol', 'Maruti Esteem AX', 'Maruti Esteem Lxi', 'Maruti Esteem Lxi - BSIII', 'Maruti Esteem VX', 'Maruti Esteem Vxi', 'Maruti Esteem Vxi - BSIII', 'Maruti Estilo LXI', 'Maruti Grand Vitara MT', 'Maruti Gypsy E MG410W ST', 'Maruti Gypsy King HT BSIV', 'Maruti Gypsy King Hard Top', 'Maruti Gypsy King Hard Top Ambulance BSIV', 'Maruti Ignis 1.2 AMT Alpha BSIV', 'Maruti Ignis 1.2 AMT Delta BSIV', 'Maruti Ignis 1.2 Alpha BSIV', 'Maruti Ignis 1.2 Delta BSIV', 'Maruti Ignis 1.2 Sigma BSIV', 'Maruti Ignis 1.2 Zeta BSIV', 'Maruti Ignis 1.3 Delta', 'Maruti Omni 5 Str STD', 'Maruti Omni 5 Str STD LPG', 'Maruti Omni 8 Seater BSII', 'Maruti Omni 8 Seater BSIV', 'Maruti Omni BSIII 8-STR W/ IMMOBILISER', 'Maruti Omni CNG', 'Maruti Omni E 8 Str STD', 'Maruti Omni E MPI STD BS IV', 'Maruti Omni LPG CARGO BSIII W IMMOBILISER', 'Maruti Omni LPG STD BSIV', 'Maruti Omni MPI STD BSIV', 'Maruti Omni Maruti Omni MPI STD BSIII 5-STR W/ IMMOBILISER', 'Maruti Ritz LDi', 'Maruti Ritz LXI', 'Maruti Ritz LXi', 'Maruti Ritz VDI (ABS) BS IV', 'Maruti Ritz VDi', 'Maruti Ritz VXI', 'Maruti Ritz VXi', 'Maruti S-Cross Alpha DDiS 200 SH', 'Maruti S-Cross Delta DDiS 200 SH', 'Maruti S-Cross Facelift', 'Maruti S-Cross Sigma DDiS 200 SH', 'Maruti S-Cross Zeta DDiS 200 SH', 'Maruti S-Presso VXI Plus', 'Maruti SX4 Celebration Diesel', 'Maruti SX4 Celebration Petrol', 'Maruti SX4 S Cross DDiS 320 Delta', 'Maruti SX4 S Cross DDiS 320 Zeta', 'Maruti SX4 VDI', 'Maruti SX4 Vxi BSIII', 'Maruti SX4 Vxi BSIV', 'Maruti SX4 ZDI', 'Maruti SX4 ZDI Leather', 'Maruti SX4 ZXI AT', 'Maruti SX4 ZXI MT BSIV', 'Maruti SX4 Zxi BSIII', 'Maruti SX4 Zxi with Leather BSIII', 'Maruti Swift 1.2 DLX', 'Maruti Swift 1.3 DLX', 'Maruti Swift 1.3 LXI', 'Maruti Swift 1.3 VXI ABS', 'Maruti Swift 1.3 VXi', 'Maruti Swift AMT VXI', 'Maruti Swift DDiS LDI', 'Maruti Swift DDiS VDI', 'Maruti Swift Dzire 1.2 Vxi BSIV', 'Maruti Swift Dzire AMT VDI', 'Maruti Swift Dzire AMT VXI', 'Maruti Swift Dzire AMT ZXI', 'Maruti Swift Dzire AMT ZXI Plus BS IV', 'Maruti Swift Dzire LDI', 'Maruti Swift Dzire LDI Optional', 'Maruti Swift Dzire LDIX Limited Edition', 'Maruti Swift Dzire LDi', 'Maruti Swift Dzire LXI', 'Maruti Swift Dzire LXI Option', 'Maruti Swift Dzire LXi', 'Maruti Swift Dzire Tour LDI', 'Maruti Swift Dzire VDI', 'Maruti Swift Dzire VDI Optional', 'Maruti Swift Dzire VDi', 'Maruti Swift Dzire VXI', 'Maruti Swift Dzire VXI 1.2 BS IV', 'Maruti Swift Dzire VXi', 'Maruti Swift Dzire Vdi BSIV', 'Maruti Swift Dzire ZDI', 'Maruti Swift Dzire ZXI', 'Maruti Swift Dzire ZXI 1.2 BS IV', 'Maruti Swift Dzire ZXI Plus', 'Maruti Swift Glam', 'Maruti Swift LDI', 'Maruti Swift LDI BSIV', 'Maruti Swift LDI Optional', 'Maruti Swift LXI', 'Maruti Swift LXI Option', 'Maruti Swift LXi BSIV', 'Maruti Swift Ldi BSIII', 'Maruti Swift Ldi BSIV', 'Maruti Swift Star VDI', 'Maruti Swift VDI', 'Maruti Swift VDI BSIV', 'Maruti Swift VDI Optional', 'Maruti Swift VDi BSIII W/ ABS', 'Maruti Swift VVT VXI', 'Maruti Swift VVT ZXI', 'Maruti Swift VXI', 'Maruti Swift VXI BSIII', 'Maruti Swift VXI BSIV', 'Maruti Swift VXI Deca', 'Maruti Swift VXI Optional', 'Maruti Swift VXI with ABS', 'Maruti Swift VXi BSIV', 'Maruti Swift Vdi BSIII', 'Maruti Swift ZDI', 'Maruti Swift ZDI Plus', 'Maruti Swift ZDi', 'Maruti Swift ZDi BSIV', 'Maruti Swift ZXI', 'Maruti Swift ZXI ABS', 'Maruti Swift ZXI BSIV', 'Maruti Swift ZXI Plus', 'Maruti Swift ZXi BSIV', 'Maruti Vitara Brezza LDi', 'Maruti Vitara Brezza LDi Option', 'Maruti Vitara Brezza VDi', 'Maruti Vitara Brezza VDi Option', 'Maruti Vitara Brezza ZDi', 'Maruti Vitara Brezza ZDi Plus', 'Maruti Vitara Brezza ZDi Plus AMT', 'Maruti Vitara Brezza ZDi Plus AMT Dual Tone', 'Maruti Vitara Brezza ZDi Plus Dual Tone', 'Maruti Wagon R AMT VXI', 'Maruti Wagon R AMT VXI Option', 'Maruti Wagon R AX', 'Maruti Wagon R CNG LXI', 'Maruti Wagon R DUO LPG', 'Maruti Wagon R Duo Lxi', 'Maruti Wagon R LX', 'Maruti Wagon R LX BS IV', 'Maruti Wagon R LX BSIII', 'Maruti Wagon R LX Minor', 'Maruti Wagon R LXI', 'Maruti Wagon R LXI BS IV', 'Maruti Wagon R LXI BSIII', 'Maruti Wagon R LXI CNG', 'Maruti Wagon R LXI DUO BS IV', 'Maruti Wagon R LXI DUO BSIII', 'Maruti Wagon R LXI LPG BSIV', 'Maruti Wagon R LXI Minor', 'Maruti Wagon R Stingray LXI', 'Maruti Wagon R Stingray VXI', 'Maruti Wagon R VX', 'Maruti Wagon R VXI', 'Maruti Wagon R VXI AMT', 'Maruti Wagon R VXI AMT1.2BSIV', 'Maruti Wagon R VXI BS IV', 'Maruti Wagon R VXI BS IV with ABS', 'Maruti Wagon R VXI BSII', 'Maruti Wagon R VXI BSIII', 'Maruti Wagon R VXI Minor', 'Maruti Wagon R VXI Minor ABS', 'Maruti Wagon R VXI Optional', 'Maruti Wagon R VXI Plus Optional', 'Maruti Wagon R VXi BSII', 'Maruti Wagon R ZXI 1.2', 'Maruti Zen D', 'Maruti Zen D PS', 'Maruti Zen Estilo 1.1 LXI BSIII', 'Maruti Zen Estilo 1.1 VXI BSIII', 'Maruti Zen Estilo LX BSIII', 'Maruti Zen Estilo LX BSIV', 'Maruti Zen Estilo LXI BS IV', 'Maruti Zen Estilo LXI BSIII', 'Maruti Zen Estilo LXI Green (CNG)', 'Maruti Zen Estilo Sports', 'Maruti Zen Estilo VXI BSIII', 'Maruti Zen Estilo VXI BSIV', 'Maruti Zen LX', 'Maruti Zen LX - BS III', 'Maruti Zen LXI', 'Maruti Zen LXi - BS III', 'Maruti Zen LXi BSII', 'Maruti Zen VX', 'Maruti Zen VXI', 'Maruti Zen VXi - BS III', 'Mercedes-Benz B Class B180 Sports', 'Mercedes-Benz C-Class Progressive C 220d', 'Mercedes-Benz E-Class 220 CDI', 'Mercedes-Benz E-Class 230', 'Mercedes-Benz E-Class 280 CDI', 'Mercedes-Benz E-Class 280 CDI Elegance', 'Mercedes-Benz E-Class E 200 CGI Elegance', 'Mercedes-Benz E-Class E250 CDI Blue Efficiency', 'Mercedes-Benz E-Class E250 CDI Elegance', 'Mercedes-Benz E-Class E250 Edition E', 'Mercedes-Benz E-Class Exclusive E 200 BSIV', 'Mercedes-Benz GL-Class 350 CDI Blue Efficiency', 'Mercedes-Benz GLS 2016-2020 350d 4MATIC', 'Mercedes-Benz M-Class ML 350 CDI', 'Mercedes-Benz New C-Class 200 CDI Classic', 'Mercedes-Benz New C-Class 220 CDI AT', 'Mercedes-Benz New C-Class C 220 CDI Avantgarde', 'Mercedes-Benz New C-Class C 220 CDI BE Avantgare', 'Mercedes-Benz New C-Class C 220 CDI Grand Edition', 'Mercedes-Benz S-Class S 350d Connoisseurs Edition', 'Mitsubishi Montero 3.2 MT', 'Mitsubishi Outlander 2.4', 'Mitsubishi Pajero 2.8 SFX BSIV Dual Tone', 'Mitsubishi Pajero Sport 4X4', 'Nissan Evalia XV', 'Nissan Kicks XL D BSIV', 'Nissan Kicks XV Premium D BSIV', 'Nissan Micra Active XV', 'Nissan Micra Active XV Petrol', 'Nissan Micra Active XV S', 'Nissan Micra Diesel XV', 'Nissan Micra Diesel XV Premium', 'Nissan Micra Diesel XV Primo', 'Nissan Micra XL', 'Nissan Micra XL CVT', 'Nissan Sunny Diesel XL', 'Nissan Sunny Diesel XV', 'Nissan Sunny XL', 'Nissan Sunny XL D', 'Nissan Sunny XV D Premium Leather', 'Nissan Terrano XE 85 PS', 'Nissan Terrano XE D', 'Nissan Terrano XL', 'Nissan Terrano XL 110 PS', 'Nissan Terrano XL 85 PS', 'Nissan Terrano XL P', 'Nissan Terrano XL Plus 85 PS', 'Nissan Terrano XL Plus ICC WT20 SE', 'Nissan Terrano XV Premium 110 PS', 'Nissan X-Trail SLX MT', 'OpelCorsa 1.4 GL', 'OpelCorsa 1.6Gls', 'Renault Captur 1.5 Diesel RXT', 'Renault Captur 1.5 Diesel RXT Mono', 'Renault Duster 110PS Diesel RxL', 'Renault Duster 110PS Diesel RxZ', 'Renault Duster 110PS Diesel RxZ AWD', 'Renault Duster 110PS Diesel RxZ Plus', 'Renault Duster 85PS Diesel RxE', 'Renault Duster 85PS Diesel RxL', 'Renault Duster 85PS Diesel RxL Optional', 'Renault Duster 85PS Diesel RxL Plus', 'Renault Duster 85PS Diesel RxZ', 'Renault Duster Petrol RxL', 'Renault Duster RXL AWD', 'Renault Fluence 1.5', 'Renault KWID 1.0', 'Renault KWID 1.0 RXL', 'Renault KWID 1.0 RXT Optional', 'Renault KWID AMT', 'Renault KWID Climber 1.0 AMT', 'Renault KWID Climber 1.0 AMT BSIV', 'Renault KWID Climber 1.0 MT Opt BSIV', 'Renault KWID RXE', 'Renault KWID RXL', 'Renault KWID RXL BSIV', 'Renault KWID RXT', 'Renault KWID RXT BSIV', 'Renault KWID RXT Optional', 'Renault Koleos 2.0 Diesel', 'Renault Lodgy 85PS RxL', 'Renault Lodgy Stepway 85PS RXZ 8S', 'Renault Pulse RxL', 'Renault Pulse RxZ', 'Renault Pulse RxZ Optional', 'Renault Scala Diesel RxL', 'Renault Scala RxL', 'Renault Triber RXT BSIV', 'Skoda Fabia 1.2 MPI Ambition Plus', 'Skoda Fabia 1.2 TDI Active', 'Skoda Fabia 1.2L Diesel Ambiente', 'Skoda Laura 1.9 TDI MT Ambiente', 'Skoda Laura Ambiente', 'Skoda Laura Ambiente 1.9 PD', 'Skoda Laura Ambiente 2.0 TDI CR AT', 'Skoda Laura Ambiente 2.0 TDI CR MT', 'Skoda Laura Elegance 1.9 TDI  AT', 'Skoda Laura Elegance 2.0 TDI CR AT', 'Skoda Laura L n K 1.9 PD', 'Skoda Octavia Ambiente 1.9 TDI MT', 'Skoda Octavia Classic 1.9 TDI MT', 'Skoda Octavia Elegance 2.0 TDI AT', 'Skoda Rapid 1.5 TDI AT Ambition', 'Skoda Rapid 1.5 TDI AT Ambition BSIV', 'Skoda Rapid 1.5 TDI AT Style BSIV', 'Skoda Rapid 1.5 TDI Ambition', 'Skoda Rapid 1.5 TDI Ambition BSIV', 'Skoda Rapid 1.5 TDI Elegance', 'Skoda Rapid 1.6 MPI AT Ambition BSIV', 'Skoda Rapid 1.6 MPI AT Elegance Plus', 'Skoda Rapid 1.6 MPI Active', 'Skoda Rapid 1.6 MPI Ambition With Alloy Wheel', 'Skoda Rapid 1.6 MPI Elegance', 'Skoda Rapid 1.6 TDI Ambition', 'Skoda Rapid 1.6 TDI Elegance', 'Skoda Rapid 1.6 TDI PRESTIGE', 'Skoda Rapid Monte Carlo 1.6 MPI AT BSIV', 'Skoda Superb 1.8 TFSI MT', 'Skoda Superb 1.8 TSI', 'Skoda Superb Ambition 2.0 TDI CR AT', 'Skoda Superb Elegance 2.0 TDI CR AT', 'Skoda Superb LK 1.8 TSI AT', 'Skoda Yeti Ambition 4WD', 'Skoda Yeti Ambition 4X2', 'Tata Altroz XE', 'Tata Altroz XZ', 'Tata Aria Pleasure 4x2', 'Tata Aria Pure LX 4x2', 'Tata Bolt Quadrajet XE', 'Tata Bolt Revotron XE', 'Tata Bolt Revotron XM', 'Tata Harrier XE', 'Tata Harrier XZ BSIV', 'Tata Hexa XM', 'Tata Hexa XT', 'Tata Hexa XT 4X4', 'Tata Hexa XTA', 'Tata Indica DL', 'Tata Indica DLE', 'Tata Indica DLS', 'Tata Indica DLX', 'Tata Indica GLS BS IV', 'Tata Indica LSI', 'Tata Indica LXI', 'Tata Indica V2 2001-2011 DLS BSIII', 'Tata Indica V2 DLS BSII', 'Tata Indica Vista Aqua 1.2 Safire BSIV', 'Tata Indica Vista Aqua 1.3 Quadrajet', 'Tata Indica Vista Aqua 1.3 Quadrajet ABS BSIV', 'Tata Indica Vista Aqua 1.3 Quadrajet BSIV', 'Tata Indica Vista Aqua 1.4 TDI', 'Tata Indica Vista Aqua TDI BSIII', 'Tata Indica Vista Aura 1.2 Safire', 'Tata Indica Vista Aura 1.3 Quadrajet', 'Tata Indica Vista Aura 1.3 Quadrajet BSIV', 'Tata Indica Vista Aura Plus 1.3 Quadrajet', 'Tata Indica Vista Quadrajet 90 VX', 'Tata Indica Vista Quadrajet LS', 'Tata Indica Vista Quadrajet LX', 'Tata Indica Vista Quadrajet VX', 'Tata Indica Vista TDI LS', 'Tata Indica Vista TDI LX', 'Tata Indica Vista Terra 1.4 TDI', 'Tata Indica Vista Terra Quadrajet 1.3L', 'Tata Indica Vista Terra Quadrajet 1.3L BS IV', 'Tata Indica Vista Terra TDI BSIII', 'Tata Indigo CR4', 'Tata Indigo CS Emax CNG GLX', 'Tata Indigo CS LE (TDI) BS-III', 'Tata Indigo CS LS (TDI) BS-III', 'Tata Indigo CS LX (TDI) BS-III', 'Tata Indigo CS eLS BS IV', 'Tata Indigo CS eLX BS IV', 'Tata Indigo Classic Dicor', 'Tata Indigo GLE BSIII', 'Tata Indigo GLS', 'Tata Indigo GLX', 'Tata Indigo Grand Dicor', 'Tata Indigo Grand Petrol', 'Tata Indigo LS', 'Tata Indigo LS BSII', 'Tata Indigo LS Dicor', 'Tata Indigo LX', 'Tata Indigo LX Dicor', 'Tata Indigo TDI', 'Tata Manza Aqua Quadrajet BS IV', 'Tata Manza Aura (ABS) Quadrajet BS IV', 'Tata Manza Aura (ABS) Safire BS IV', 'Tata Manza Aura Quadrajet', 'Tata Manza Aura Quadrajet BS IV', 'Tata Manza Aura Safire', 'Tata Manza Aura Safire BS IV', 'Tata Manza Club Class Quadrajet90 EX', 'Tata Manza Club Class Quadrajet90 LS', 'Tata Manza Club Class Quadrajet90 LX', 'Tata Manza Club Class Quadrajet90 VX', 'Tata Manza ELAN Quadrajet BS IV', 'Tata Nano CX', 'Tata Nano CX SE', 'Tata Nano Cx BSIII', 'Tata Nano Cx BSIV', 'Tata Nano LX', 'Tata Nano LX SE', 'Tata Nano Lx', 'Tata Nano Lx BSIII', 'Tata Nano Lx BSIV', 'Tata Nano STD', 'Tata Nano Std', 'Tata Nano Std BSII', 'Tata Nano Twist XE', 'Tata Nano Twist XT', 'Tata Nano XM', 'Tata New Safari 3L Dicor LX 4x2', 'Tata New Safari 4X2', 'Tata New Safari 4X4', 'Tata New Safari 4X4 EX', 'Tata New Safari DICOR 2.2 EX 4x2', 'Tata New Safari DICOR 2.2 EX 4x4', 'Tata New Safari DICOR 2.2 GX 4x2', 'Tata New Safari DICOR 2.2 GX 4x2 BS IV', 'Tata New Safari DICOR 2.2 VX 4x2', 'Tata New Safari DICOR 2.2 VX 4x4', 'Tata New Safari Dicor EX 4X2 BS IV', 'Tata Nexon 1.2 Revotron XM', 'Tata Nexon 1.2 Revotron XZ Plus', 'Tata Nexon 1.2 Revotron XZ Plus Dual Tone', 'Tata Nexon 1.5 Revotorq XM', 'Tata Nexon 1.5 Revotorq XZ', 'Tata Safari DICOR 2.2 EX 4x2', 'Tata Safari Storme EX', 'Tata Safari Storme VX', 'Tata Safari Storme VX Varicor 400', 'Tata Spacio SA 6 Seater', 'Tata Sumo GX TC 7 Str BSIII', 'Tata Sumo GX TC 8 Str', 'Tata Sumo Gold EX', 'Tata Sumo Gold EX BSIII', 'Tata Sumo LX', 'Tata Sumo SE Plus BSIII', 'Tata Sumo Victa CX 7/9 Str BSII', 'Tata Sumo Victa EX 7/9 Str BSII', 'Tata Tiago 1.05 Revotorq XE', 'Tata Tiago 1.05 Revotorq XM', 'Tata Tiago 1.05 Revotorq XT Option', 'Tata Tiago 1.05 Revotorq XZ Plus', 'Tata Tiago 1.2 Revotron XE', 'Tata Tiago 1.2 Revotron XT', 'Tata Tiago 1.2 Revotron XTA', 'Tata Tiago 1.2 Revotron XZ', 'Tata Tiago 1.2 Revotron XZA', 'Tata Tiago 2019-2020 XE Diesel', 'Tata Tiago 2019-2020 XZ', 'Tata Tiago NRG Petrol', 'Tata Tiago XT', 'Tata Tiago XZA AMT', 'Tata Tigor 1.2 Revotron XM', 'Tata Tigor 1.2 Revotron XT', 'Tata Tigor 1.2 Revotron XZ Option', 'Tata Venture EX', 'Tata Winger Deluxe - Hi Roof (AC)', 'Tata Xenon XT EX 4X2', 'Tata Xenon XT EX 4X4', 'Tata Zest Quadrajet 1.3', 'Tata Zest Quadrajet 1.3 75PS XE', 'Tata Zest Quadrajet 1.3 XM', 'Tata Zest Revotron 1.2 XT', 'Tata Zest Revotron 1.2T XE', 'Tata Zest Revotron 1.2T XMS', 'Toyota Camry 2.5 Hybrid', 'Toyota Camry Hybrid', 'Toyota Camry Hybrid 2.5', 'Toyota Camry M/t', 'Toyota Corolla AE', 'Toyota Corolla Altis 1.8 GL', 'Toyota Corolla Altis 1.8 J', 'Toyota Corolla Altis 1.8 VL AT', 'Toyota Corolla Altis 1.8 VL CVT', 'Toyota Corolla Altis D-4D J', 'Toyota Corolla Altis Diesel D4DG', 'Toyota Corolla Altis Diesel D4DGL', 'Toyota Corolla Altis Diesel D4DJ', 'Toyota Corolla Altis G', 'Toyota Corolla Altis G AT', 'Toyota Corolla Altis GL MT', 'Toyota Corolla Executive (HE)', 'Toyota Corolla H2', 'Toyota Corolla H3', 'Toyota Corolla H6', 'Toyota Etios 1.4 VXD', 'Toyota Etios 1.5 V', 'Toyota Etios Cross 1.2L G', 'Toyota Etios Cross 1.4L GD', 'Toyota Etios GD', 'Toyota Etios GD SP', 'Toyota Etios Liva 1.2 G', 'Toyota Etios Liva 1.2 V', 'Toyota Etios Liva 1.2 VX', 'Toyota Etios Liva 1.4 VD', 'Toyota Etios Liva G', 'Toyota Etios Liva GD', 'Toyota Etios Liva GD SP', 'Toyota Etios Liva VD', 'Toyota Etios Liva VX', 'Toyota Etios V', 'Toyota Etios VD', 'Toyota Etios VX', 'Toyota Etios VXD', 'Toyota Fortuner 2.7 2WD AT', 'Toyota Fortuner 2.8 2WD AT BSIV', 'Toyota Fortuner 2.8 4WD AT BSIV', 'Toyota Fortuner 3.0 Diesel', 'Toyota Fortuner 4x2 AT', 'Toyota Fortuner 4x2 Manual', 'Toyota Fortuner 4x4 MT', 'Toyota Innova 2.0 GX 8 STR BSIV', 'Toyota Innova 2.0 VX 7 Seater', 'Toyota Innova 2.5 E 8 STR', 'Toyota Innova 2.5 E Diesel MS 7-seater', 'Toyota Innova 2.5 EV Diesel MS 7 Str BSIII', 'Toyota Innova 2.5 EV Diesel PS 7 Seater BSIII', 'Toyota Innova 2.5 G (Diesel) 7 Seater', 'Toyota Innova 2.5 G (Diesel) 7 Seater BS IV', 'Toyota Innova 2.5 G (Diesel) 8 Seater', 'Toyota Innova 2.5 G (Diesel) 8 Seater BS IV', 'Toyota Innova 2.5 G1 BSIV', 'Toyota Innova 2.5 G3', 'Toyota Innova 2.5 G4 Diesel 7-seater', 'Toyota Innova 2.5 G4 Diesel 8-seater', 'Toyota Innova 2.5 GX (Diesel) 7 Seater', 'Toyota Innova 2.5 GX (Diesel) 7 Seater BS IV', 'Toyota Innova 2.5 GX (Diesel) 8 Seater', 'Toyota Innova 2.5 GX (Diesel) 8 Seater BS IV', 'Toyota Innova 2.5 GX 7 STR', 'Toyota Innova 2.5 GX 7 STR BSIV', 'Toyota Innova 2.5 GX 8 STR BSIV', 'Toyota Innova 2.5 V Diesel 7-seater', 'Toyota Innova 2.5 V Diesel 8-seater', 'Toyota Innova 2.5 VX (Diesel) 7 Seater', 'Toyota Innova 2.5 VX (Diesel) 7 Seater BS IV', 'Toyota Innova 2.5 VX (Diesel) 8 Seater', 'Toyota Innova 2.5 VX (Diesel) 8 Seater BS IV', 'Toyota Innova 2.5 VX 8 STR', 'Toyota Innova 2.5 VX 8 STR BSIV', 'Toyota Innova 2.5 Z Diesel 7 Seater BS IV', 'Toyota Innova Crysta 2.4 G MT BSIV', 'Toyota Innova Crysta 2.4 GX AT', 'Toyota Innova Crysta 2.4 GX MT 8S BSIV', 'Toyota Innova Crysta 2.4 VX MT', 'Toyota Innova Crysta 2.4 VX MT 8S BSIV', 'Toyota Innova Crysta 2.4 VX MT BSIV', 'Toyota Innova Crysta 2.4 ZX MT', 'Toyota Innova Crysta 2.5 VX BS IV', 'Toyota Innova Crysta 2.8 GX AT BSIV', 'Toyota Innova Crysta 2.8 ZX AT BSIV', 'Toyota Qualis FS B3', 'Toyota Yaris G', 'Volkswagen Ameo 1.2 MPI Trendline', 'Volkswagen Ameo 1.5 TDI Comfortline', 'Volkswagen Ameo 1.5 TDI Highline', 'Volkswagen Ameo 1.5 TDI Highline 16 Alloy', 'Volkswagen Ameo 1.5 TDI Highline Plus 16', 'Volkswagen CrossPolo 1.2 MPI', 'Volkswagen Jetta 1.4 TSI Comfortline', 'Volkswagen Jetta 1.9 Highline TDI', 'Volkswagen Jetta 1.9 L TDI', 'Volkswagen Jetta 1.9 TDI Comfortline DSG', 'Volkswagen Jetta 1.9 TDI Trendline', 'Volkswagen Jetta 2.0 TDI Comfortline', 'Volkswagen Jetta 2.0 TDI Trendline', 'Volkswagen Jetta 2.0L TDI Comfortline', 'Volkswagen Jetta 2.0L TDI Highline', 'Volkswagen Jetta 2.0L TDI Highline AT', 'Volkswagen Passat 1.8 TSI MT', 'Volkswagen Polo 1.0 MPI Trendline', 'Volkswagen Polo 1.0 TSI Highline Plus', 'Volkswagen Polo 1.2 MPI Comfortline', 'Volkswagen Polo 1.2 MPI Highline', 'Volkswagen Polo 1.5 TDI Comfortline', 'Volkswagen Polo 1.5 TDI Highline', 'Volkswagen Polo 1.5 TDI Trendline', 'Volkswagen Polo 2015-2019 1.2 MPI Highline', 'Volkswagen Polo Diesel Comfortline 1.2L', 'Volkswagen Polo Diesel Highline 1.2L', 'Volkswagen Polo Diesel Trendline 1.2L', 'Volkswagen Polo GT 1.0 TSI', 'Volkswagen Polo GTI', 'Volkswagen Polo Petrol Comfortline 1.2L', 'Volkswagen Polo Petrol Highline 1.2L', 'Volkswagen Polo SR Petrol 1.2L', 'Volkswagen Vento 1.0 TSI Highline Plus', 'Volkswagen Vento 1.5 Highline Plus AT 16 Alloy', 'Volkswagen Vento 1.5 TDI Comfortline', 'Volkswagen Vento 1.5 TDI Comfortline AT', 'Volkswagen Vento 1.5 TDI Highline', 'Volkswagen Vento 1.5 TDI Highline AT', 'Volkswagen Vento 1.5 TDI Highline BSIV', 'Volkswagen Vento 1.5 TDI Highline Plus AT', 'Volkswagen Vento 1.5 TDI Highline Plus AT BSIV', 'Volkswagen Vento 1.6 Highline', 'Volkswagen Vento Celeste 1.5 TDI Highline AT', 'Volkswagen Vento Diesel Comfortline', 'Volkswagen Vento Diesel Highline', 'Volkswagen Vento Diesel Style Limited Edition', 'Volkswagen Vento Diesel Trendline', 'Volkswagen Vento IPL II Diesel Trendline', 'Volkswagen Vento Magnific 1.6 Highline', 'Volkswagen Vento New Diesel Highline', 'Volkswagen Vento Petrol Highline', 'Volkswagen Vento Petrol Highline AT', 'Volvo V40 D3 R Design', 'Volvo XC 90 D5 Inscription BSIV', 'Volvo XC60 D3 Kinetic', 'Volvo XC60 D5 Inscription']\n"
     ]
    }
   ],
   "source": [
    "marka_adlari = []\n",
    "for i in le.classes_:\n",
    "    marka_adlari += [i]\n",
    "#print(marka_adlari)"
   ]
  },
  {
   "cell_type": "code",
   "execution_count": null,
   "metadata": {},
   "outputs": [],
   "source": [
    "# Marka adlarının karşılık geldiği indeksler için bir indeks listesi oluşturduk."
   ]
  },
  {
   "cell_type": "code",
   "execution_count": 14,
   "metadata": {},
   "outputs": [],
   "source": [
    "indeks_liste = np.arange(0, 1491)"
   ]
  },
  {
   "cell_type": "code",
   "execution_count": 15,
   "metadata": {},
   "outputs": [],
   "source": [
    "indeks = []\n",
    "for i in indeks_liste:\n",
    "    indeks += [i]"
   ]
  },
  {
   "cell_type": "code",
   "execution_count": null,
   "metadata": {},
   "outputs": [],
   "source": [
    "# Marka için yaptığımız işlemleri km değerleri için de yapıyoruz."
   ]
  },
  {
   "cell_type": "code",
   "execution_count": 10,
   "metadata": {},
   "outputs": [],
   "source": [
    "df[\"Km\"] = le.fit_transform(df.Km)"
   ]
  },
  {
   "cell_type": "code",
   "execution_count": 11,
   "metadata": {
    "collapsed": true,
    "jupyter": {
     "outputs_hidden": true
    }
   },
   "outputs": [
    {
     "name": "stdout",
     "output_type": "stream",
     "text": [
      "[1, 101, 1000, 1001, 1010, 1100, 1111, 1136, 1200, 1250, 1300, 1400, 1440, 1452, 1500, 1700, 1758, 1950, 2000, 2020, 2417, 2500, 2650, 2769, 3000, 3240, 3600, 3700, 3917, 4000, 4400, 4432, 4500, 4637, 5000, 5007, 5166, 5200, 5400, 5550, 5800, 6000, 6480, 6500, 6590, 7000, 7104, 7300, 7600, 7658, 7900, 8000, 8352, 8500, 9000, 9161, 9400, 9422, 9500, 9528, 9700, 9745, 9748, 9800, 10000, 10171, 10200, 10211, 10300, 10500, 10510, 10832, 10980, 11000, 11114, 11174, 11200, 11212, 11240, 11451, 11473, 11700, 11918, 11958, 12000, 12500, 12586, 12700, 12997, 12999, 13000, 13250, 13270, 13500, 13599, 13770, 13800, 13900, 14000, 14100, 14272, 14365, 14500, 14681, 14700, 14825, 14987, 15000, 16000, 16267, 16400, 16584, 17000, 17100, 17152, 17500, 17563, 18000, 18054, 18469, 18500, 18591, 19000, 19014, 19077, 19107, 19495, 19571, 19600, 19890, 20000, 20118, 20194, 20500, 20629, 20694, 20778, 20969, 21000, 21170, 21302, 21394, 22000, 22038, 22155, 22255, 22288, 22700, 23000, 23038, 23122, 23262, 23600, 23670, 23800, 23839, 23974, 24000, 24005, 24585, 24600, 24662, 25000, 25061, 25552, 25880, 26000, 26134, 26350, 26430, 26500, 26766, 27000, 27005, 27289, 27483, 27620, 27633, 27974, 28000, 28205, 28217, 28245, 28481, 28635, 28643, 28689, 28740, 28838, 28942, 29000, 29173, 29600, 29654, 29900, 29976, 30000, 30093, 30300, 30375, 30500, 30600, 30646, 31000, 31063, 31080, 31200, 31367, 31489, 31491, 31707, 31800, 32000, 32077, 32114, 32260, 32670, 32686, 32933, 33000, 33033, 33100, 33800, 34000, 34400, 34500, 34600, 34823, 34982, 35000, 35008, 35122, 35299, 35925, 36000, 37000, 37091, 37161, 37500, 37516, 37555, 37605, 38000, 38083, 38217, 38365, 38406, 38500, 38900, 39000, 39039, 39093, 39221, 39227, 39415, 39503, 39895, 40000, 40219, 40700, 40771, 40890, 40903, 41000, 41025, 41041, 41090, 41123, 41125, 41395, 41723, 41988, 42000, 42215, 42324, 42494, 42500, 42655, 42743, 43000, 43100, 43128, 43192, 43235, 43377, 43500, 43608, 43700, 43826, 44000, 44049, 44077, 44416, 44440, 44500, 44588, 44800, 44875, 45000, 45087, 45143, 45217, 45241, 45264, 45454, 45457, 45766, 45839, 45974, 46000, 46412, 46507, 46730, 46957, 47000, 47162, 47253, 47564, 48000, 48220, 48238, 48500, 48600, 48781, 48965, 48980, 49000, 49213, 49217, 49359, 49600, 49654, 49824, 49834, 49957, 50000, 50300, 50699, 50852, 50900, 51000, 51500, 51687, 52000, 52047, 52328, 52517, 52536, 52547, 52600, 52895, 53000, 53122, 53261, 53500, 53600, 53652, 53772, 54000, 54206, 54309, 54350, 54551, 54565, 54634, 54784, 55000, 55130, 55168, 55250, 55300, 55328, 55340, 55425, 55545, 55766, 55800, 55838, 55850, 56000, 56207, 56228, 56541, 56580, 56600, 57000, 57035, 57112, 57353, 57904, 58000, 58182, 58231, 58500, 58692, 58850, 59000, 59059, 59100, 59110, 59213, 59258, 59319, 59385, 59858, 60000, 60208, 60236, 60400, 60516, 60800, 60826, 61000, 61083, 61187, 61585, 61624, 61658, 61690, 62000, 62009, 62200, 62237, 62601, 62668, 63000, 63063, 63230, 63240, 63356, 63400, 63500, 63654, 63657, 63700, 63840, 64000, 64111, 64156, 64441, 64484, 64541, 64672, 64700, 64916, 65000, 65239, 65500, 66000, 66066, 66363, 66508, 66521, 66569, 66755, 66764, 66778, 66782, 67000, 67067, 67580, 68000, 68293, 68308, 68350, 68458, 68500, 68519, 68523, 68745, 69000, 69069, 69111, 69782, 70000, 70070, 70378, 70950, 71000, 71014, 71042, 71318, 71500, 72000, 72104, 72500, 72539, 72787, 73000, 73300, 73350, 73756, 74000, 74113, 74183, 74300, 74500, 74510, 74800, 74820, 75000, 75118, 75800, 75976, 76000, 76259, 76290, 76400, 76600, 76731, 76736, 77000, 77073, 77350, 78000, 78098, 78322, 78380, 78413, 78771, 78892, 79000, 79350, 79357, 79500, 79641, 79800, 79991, 80000, 80251, 80322, 80362, 80577, 80659, 81000, 81150, 81257, 81324, 81358, 81366, 81595, 81632, 81925, 82000, 82080, 82082, 82695, 83000, 83411, 84000, 84775, 85000, 85036, 85441, 85710, 85962, 86000, 86017, 87000, 87293, 87620, 88000, 88470, 88473, 88500, 88600, 88635, 89000, 89126, 89255, 89550, 89600, 89741, 90000, 90010, 90165, 90246, 90658, 91086, 91195, 91245, 91365, 91505, 92000, 92198, 92621, 92645, 92686, 93000, 93283, 93415, 93900, 94000, 95000, 95149, 95851, 96000, 96987, 97000, 97248, 97700, 98000, 98600, 98900, 99000, 99117, 99700, 100000, 100005, 101000, 101100, 101159, 101504, 101849, 102000, 102307, 102354, 102989, 103921, 104000, 105000, 105429, 105546, 105700, 106000, 107000, 107143, 107500, 108000, 108731, 109000, 109052, 110000, 112198, 112880, 113600, 114000, 115000, 115962, 115992, 116000, 117000, 117780, 118000, 118400, 118700, 119000, 120000, 121764, 123084, 124000, 124439, 125000, 125531, 126000, 127500, 127643, 127884, 128000, 129000, 129627, 130000, 130400, 131365, 132000, 132343, 133000, 133564, 134000, 134444, 135000, 135200, 136000, 136906, 137250, 138000, 138925, 139000, 140000, 140300, 140730, 141000, 141440, 142000, 143000, 144000, 145000, 146000, 148620, 149000, 149500, 149674, 150000, 151000, 151624, 152000, 154000, 155000, 155201, 155500, 155836, 156000, 156040, 157000, 158000, 159000, 160000, 160254, 161327, 162000, 163000, 164000, 165000, 166000, 167223, 167870, 168000, 170000, 172000, 173000, 175000, 175900, 178000, 180000, 181000, 182000, 185000, 186000, 190000, 190621, 192000, 195000, 197000, 200000, 205000, 206500, 210000, 212814, 213000, 217871, 218000, 220000, 221000, 222252, 222435, 223000, 223660, 224642, 230000, 234000, 235000, 238000, 240000, 244000, 245244, 250000, 256000, 260000, 267000, 270000, 280000, 295000, 296823, 300000, 312000, 347089, 350000, 400000, 560000, 806599]\n"
     ]
    }
   ],
   "source": [
    "km_degerleri_liste = []\n",
    "for i in le.classes_:\n",
    "    km_degerleri_liste += [i]\n",
    "#print(km_degerleri_liste)"
   ]
  },
  {
   "cell_type": "code",
   "execution_count": 17,
   "metadata": {},
   "outputs": [],
   "source": [
    "km_indeks_liste = np.arange(0, 770)"
   ]
  },
  {
   "cell_type": "code",
   "execution_count": 18,
   "metadata": {
    "collapsed": true,
    "jupyter": {
     "outputs_hidden": true
    }
   },
   "outputs": [
    {
     "name": "stdout",
     "output_type": "stream",
     "text": [
      "[0, 1, 2, 3, 4, 5, 6, 7, 8, 9, 10, 11, 12, 13, 14, 15, 16, 17, 18, 19, 20, 21, 22, 23, 24, 25, 26, 27, 28, 29, 30, 31, 32, 33, 34, 35, 36, 37, 38, 39, 40, 41, 42, 43, 44, 45, 46, 47, 48, 49, 50, 51, 52, 53, 54, 55, 56, 57, 58, 59, 60, 61, 62, 63, 64, 65, 66, 67, 68, 69, 70, 71, 72, 73, 74, 75, 76, 77, 78, 79, 80, 81, 82, 83, 84, 85, 86, 87, 88, 89, 90, 91, 92, 93, 94, 95, 96, 97, 98, 99, 100, 101, 102, 103, 104, 105, 106, 107, 108, 109, 110, 111, 112, 113, 114, 115, 116, 117, 118, 119, 120, 121, 122, 123, 124, 125, 126, 127, 128, 129, 130, 131, 132, 133, 134, 135, 136, 137, 138, 139, 140, 141, 142, 143, 144, 145, 146, 147, 148, 149, 150, 151, 152, 153, 154, 155, 156, 157, 158, 159, 160, 161, 162, 163, 164, 165, 166, 167, 168, 169, 170, 171, 172, 173, 174, 175, 176, 177, 178, 179, 180, 181, 182, 183, 184, 185, 186, 187, 188, 189, 190, 191, 192, 193, 194, 195, 196, 197, 198, 199, 200, 201, 202, 203, 204, 205, 206, 207, 208, 209, 210, 211, 212, 213, 214, 215, 216, 217, 218, 219, 220, 221, 222, 223, 224, 225, 226, 227, 228, 229, 230, 231, 232, 233, 234, 235, 236, 237, 238, 239, 240, 241, 242, 243, 244, 245, 246, 247, 248, 249, 250, 251, 252, 253, 254, 255, 256, 257, 258, 259, 260, 261, 262, 263, 264, 265, 266, 267, 268, 269, 270, 271, 272, 273, 274, 275, 276, 277, 278, 279, 280, 281, 282, 283, 284, 285, 286, 287, 288, 289, 290, 291, 292, 293, 294, 295, 296, 297, 298, 299, 300, 301, 302, 303, 304, 305, 306, 307, 308, 309, 310, 311, 312, 313, 314, 315, 316, 317, 318, 319, 320, 321, 322, 323, 324, 325, 326, 327, 328, 329, 330, 331, 332, 333, 334, 335, 336, 337, 338, 339, 340, 341, 342, 343, 344, 345, 346, 347, 348, 349, 350, 351, 352, 353, 354, 355, 356, 357, 358, 359, 360, 361, 362, 363, 364, 365, 366, 367, 368, 369, 370, 371, 372, 373, 374, 375, 376, 377, 378, 379, 380, 381, 382, 383, 384, 385, 386, 387, 388, 389, 390, 391, 392, 393, 394, 395, 396, 397, 398, 399, 400, 401, 402, 403, 404, 405, 406, 407, 408, 409, 410, 411, 412, 413, 414, 415, 416, 417, 418, 419, 420, 421, 422, 423, 424, 425, 426, 427, 428, 429, 430, 431, 432, 433, 434, 435, 436, 437, 438, 439, 440, 441, 442, 443, 444, 445, 446, 447, 448, 449, 450, 451, 452, 453, 454, 455, 456, 457, 458, 459, 460, 461, 462, 463, 464, 465, 466, 467, 468, 469, 470, 471, 472, 473, 474, 475, 476, 477, 478, 479, 480, 481, 482, 483, 484, 485, 486, 487, 488, 489, 490, 491, 492, 493, 494, 495, 496, 497, 498, 499, 500, 501, 502, 503, 504, 505, 506, 507, 508, 509, 510, 511, 512, 513, 514, 515, 516, 517, 518, 519, 520, 521, 522, 523, 524, 525, 526, 527, 528, 529, 530, 531, 532, 533, 534, 535, 536, 537, 538, 539, 540, 541, 542, 543, 544, 545, 546, 547, 548, 549, 550, 551, 552, 553, 554, 555, 556, 557, 558, 559, 560, 561, 562, 563, 564, 565, 566, 567, 568, 569, 570, 571, 572, 573, 574, 575, 576, 577, 578, 579, 580, 581, 582, 583, 584, 585, 586, 587, 588, 589, 590, 591, 592, 593, 594, 595, 596, 597, 598, 599, 600, 601, 602, 603, 604, 605, 606, 607, 608, 609, 610, 611, 612, 613, 614, 615, 616, 617, 618, 619, 620, 621, 622, 623, 624, 625, 626, 627, 628, 629, 630, 631, 632, 633, 634, 635, 636, 637, 638, 639, 640, 641, 642, 643, 644, 645, 646, 647, 648, 649, 650, 651, 652, 653, 654, 655, 656, 657, 658, 659, 660, 661, 662, 663, 664, 665, 666, 667, 668, 669, 670, 671, 672, 673, 674, 675, 676, 677, 678, 679, 680, 681, 682, 683, 684, 685, 686, 687, 688, 689, 690, 691, 692, 693, 694, 695, 696, 697, 698, 699, 700, 701, 702, 703, 704, 705, 706, 707, 708, 709, 710, 711, 712, 713, 714, 715, 716, 717, 718, 719, 720, 721, 722, 723, 724, 725, 726, 727, 728, 729, 730, 731, 732, 733, 734, 735, 736, 737, 738, 739, 740, 741, 742, 743, 744, 745, 746, 747, 748, 749, 750, 751, 752, 753, 754, 755, 756, 757, 758, 759, 760, 761, 762, 763, 764, 765, 766, 767, 768, 769]\n"
     ]
    }
   ],
   "source": [
    "km_indeks = []\n",
    "for i in km_indeks_liste:\n",
    "    km_indeks += [i]\n",
    "#print(km_indeks)"
   ]
  },
  {
   "cell_type": "code",
   "execution_count": null,
   "metadata": {},
   "outputs": [],
   "source": [
    "# Bütün değişkenlerin sayısal karşılıklarını almak için fit_transform işlemi yapıyoruz."
   ]
  },
  {
   "cell_type": "code",
   "execution_count": 19,
   "metadata": {},
   "outputs": [],
   "source": [
    "df[\"Vites\"] = le.fit_transform(df.Vites)"
   ]
  },
  {
   "cell_type": "code",
   "execution_count": 20,
   "metadata": {},
   "outputs": [],
   "source": [
    "df[\"SaticiTipi\"] = le.fit_transform(df.SaticiTipi)"
   ]
  },
  {
   "cell_type": "code",
   "execution_count": 21,
   "metadata": {},
   "outputs": [],
   "source": [
    "df[\"Yil\"] = le.fit_transform(df.Yil)"
   ]
  },
  {
   "cell_type": "code",
   "execution_count": 22,
   "metadata": {},
   "outputs": [],
   "source": [
    "df[\"Yakit\"] = le.fit_transform(df.Yakit)"
   ]
  },
  {
   "cell_type": "code",
   "execution_count": 23,
   "metadata": {},
   "outputs": [],
   "source": [
    "df[\"KacinciSahip\"] = le.fit_transform(df.KacinciSahip)"
   ]
  },
  {
   "cell_type": "code",
   "execution_count": 24,
   "metadata": {},
   "outputs": [
    {
     "data": {
      "text/html": [
       "<div>\n",
       "<style scoped>\n",
       "    .dataframe tbody tr th:only-of-type {\n",
       "        vertical-align: middle;\n",
       "    }\n",
       "\n",
       "    .dataframe tbody tr th {\n",
       "        vertical-align: top;\n",
       "    }\n",
       "\n",
       "    .dataframe thead th {\n",
       "        text-align: right;\n",
       "    }\n",
       "</style>\n",
       "<table border=\"1\" class=\"dataframe\">\n",
       "  <thead>\n",
       "    <tr style=\"text-align: right;\">\n",
       "      <th></th>\n",
       "      <th>Marka</th>\n",
       "      <th>Yil</th>\n",
       "      <th>Fiyat</th>\n",
       "      <th>Km</th>\n",
       "      <th>Yakit</th>\n",
       "      <th>SaticiTipi</th>\n",
       "      <th>Vites</th>\n",
       "      <th>KacinciSahip</th>\n",
       "    </tr>\n",
       "  </thead>\n",
       "  <tbody>\n",
       "    <tr>\n",
       "      <th>0</th>\n",
       "      <td>775</td>\n",
       "      <td>13</td>\n",
       "      <td>60000</td>\n",
       "      <td>474</td>\n",
       "      <td>4</td>\n",
       "      <td>1</td>\n",
       "      <td>1</td>\n",
       "      <td>0</td>\n",
       "    </tr>\n",
       "    <tr>\n",
       "      <th>1</th>\n",
       "      <td>1041</td>\n",
       "      <td>13</td>\n",
       "      <td>135000</td>\n",
       "      <td>335</td>\n",
       "      <td>4</td>\n",
       "      <td>1</td>\n",
       "      <td>1</td>\n",
       "      <td>0</td>\n",
       "    </tr>\n",
       "    <tr>\n",
       "      <th>2</th>\n",
       "      <td>505</td>\n",
       "      <td>18</td>\n",
       "      <td>600000</td>\n",
       "      <td>607</td>\n",
       "      <td>1</td>\n",
       "      <td>1</td>\n",
       "      <td>1</td>\n",
       "      <td>0</td>\n",
       "    </tr>\n",
       "    <tr>\n",
       "      <th>3</th>\n",
       "      <td>118</td>\n",
       "      <td>23</td>\n",
       "      <td>250000</td>\n",
       "      <td>309</td>\n",
       "      <td>4</td>\n",
       "      <td>1</td>\n",
       "      <td>1</td>\n",
       "      <td>0</td>\n",
       "    </tr>\n",
       "    <tr>\n",
       "      <th>4</th>\n",
       "      <td>279</td>\n",
       "      <td>20</td>\n",
       "      <td>450000</td>\n",
       "      <td>681</td>\n",
       "      <td>1</td>\n",
       "      <td>1</td>\n",
       "      <td>1</td>\n",
       "      <td>2</td>\n",
       "    </tr>\n",
       "  </tbody>\n",
       "</table>\n",
       "</div>"
      ],
      "text/plain": [
       "   Marka  Yil   Fiyat   Km  Yakit  SaticiTipi  Vites  KacinciSahip\n",
       "0    775   13   60000  474      4           1      1             0\n",
       "1   1041   13  135000  335      4           1      1             0\n",
       "2    505   18  600000  607      1           1      1             0\n",
       "3    118   23  250000  309      4           1      1             0\n",
       "4    279   20  450000  681      1           1      1             2"
      ]
     },
     "execution_count": 24,
     "metadata": {},
     "output_type": "execute_result"
    }
   ],
   "source": [
    "df.head() # Değişkenlerin sayısal karşılıklarının alınmış hali"
   ]
  },
  {
   "cell_type": "markdown",
   "metadata": {},
   "source": [
    "# Machine Learning Kısmı"
   ]
  },
  {
   "cell_type": "code",
   "execution_count": 25,
   "metadata": {},
   "outputs": [],
   "source": [
    "x = df.drop([\"Fiyat\", \"SaticiTipi\"], axis = 1)\n",
    "y = df[\"Fiyat\"]"
   ]
  },
  {
   "cell_type": "code",
   "execution_count": 26,
   "metadata": {},
   "outputs": [],
   "source": [
    "x_train, x_test, y_train, y_test = train_test_split(x, y, test_size = 0.25, random_state = 100)"
   ]
  },
  {
   "cell_type": "markdown",
   "metadata": {},
   "source": [
    "### Burada dört ayrı modelde işlem yaptım istediğiniz modeli kullanabilirsiniz."
   ]
  },
  {
   "cell_type": "code",
   "execution_count": 27,
   "metadata": {},
   "outputs": [],
   "source": [
    "#lgb = LGBMRegressor()\n",
    "#randm = RandomForestRegressor().fit(x_train, y_train)\n",
    "#gbm = GradientBoostingRegressor().fit(x_train, y_train),\n",
    "#catb_model = CatBoostRegressor().fit(x_train, y_train, verbose = False)\n",
    "xgb = XGBRegressor().fit(x_train, y_train)"
   ]
  },
  {
   "cell_type": "code",
   "execution_count": 28,
   "metadata": {},
   "outputs": [],
   "source": [
    "\"\"\"lgb_params = {\"n_estimators\": [50, 100, 200, 500, 1000],\n",
    "         \"learning_rate\": [0.01, 0.3, 0.1, 0.5],\n",
    "         \"max_depth\": [2, 3, 4, 5, 8]}\"\"\"\n",
    "\"\"\"randm_params = {\"n_estimators\":[100, 300, 500],\n",
    "         \"min_samples_split\":[1, 3, 5, 7],\n",
    "         \"min_samples_leaf\":[2, 4, 6],\n",
    "         \"max_depth\":[2, 3, 5 , 7]}\"\"\"\n",
    "\"\"\"gbm_params = {\"max_features\":['auto', 'sqrt', 'log2'],\n",
    "         \"alpha\":[0.5, 0.9, 1, 0.3],\n",
    "         \"learning_rate\":[0.1, 0.3, 0.5, 0.8],\n",
    "         \"n_estimators\":[100, 500, 800, 300]}\"\"\"\n",
    "\"\"\"catb_params = {\"iterations\":[200, 500, 1000],\n",
    "              \"learning_rate\":[0.01, 0.3, 0.1],\n",
    "              \"depth\":[3, 6, 8]}\"\"\"\n",
    "xgb_params = {\"n_estimators\":[100, 200, 500, 1000],\n",
    "         \"max_depth\":[2,4,8,10,15,3,5],\n",
    "         \"learning_rate\":[0.1, 0.3, 0.5, 0.02, 0.6, 0.7],\n",
    "         \"colsample_bytree\":[0.4, 0.7, 1]}"
   ]
  },
  {
   "cell_type": "code",
   "execution_count": null,
   "metadata": {},
   "outputs": [],
   "source": [
    "# Bilgisayarınızın işlemci gücüne göre cross validation işlemini artırabilirsiniz ve parametre kısmındaki parametre değerlerine yeni değerler ekleyebilirsiniz."
   ]
  },
  {
   "cell_type": "code",
   "execution_count": 29,
   "metadata": {},
   "outputs": [],
   "source": [
    "#lgb_cv = GridSearchCV(lgb, lgb_params, cv = 8, verbose = 2, n_jobs = -1).fit(x_train, y_train, verbose = False)\n",
    "#randm_cv = GridSearchCV(randm, randm_params, cv = 5, verbose = 2, n_jobs = -1).fit(x_train, y_train)\n",
    "#gbm_cv = GridSearchCV(gbm, gbm_params, cv = 5, verbose = 2, n_jobs = -1).fit(x_train, y_train)\n",
    "#catb_cv = GridSearchCV(catb_model, catb_params, cv = 5, verbose = 2, n_jobs = -1).fit(x_train, y_train)\n",
    "#xgb_cv = GridSearchCV(xgb, xgb_params, cv = 10, verbose = 2, n_jobs = -1).fit(x_train, y_train)"
   ]
  },
  {
   "cell_type": "markdown",
   "metadata": {},
   "source": [
    "#### Modelimiz için en uygun parametreleri seçiyoruz."
   ]
  },
  {
   "cell_type": "code",
   "execution_count": 30,
   "metadata": {},
   "outputs": [],
   "source": [
    "#lgb_cv.best_params_\n",
    "#randm_cv.best_params_\n",
    "#gbm_cv.best_params_\n",
    "#catb_cv.best_params_\n",
    "#xgb_cv.best_params"
   ]
  },
  {
   "cell_type": "code",
   "execution_count": 31,
   "metadata": {},
   "outputs": [],
   "source": [
    "#tuned = LGBMRegressor(n_estimators = 500, learning_rate = 0.3, max_depth =4 ).fit(x_train, y_train)\n",
    "#tuned = RandomForestRegressor(n_estimators = 500, min_samples_split = 3, min_samples_leaf = 2, max_depth = 7).fit(x_train, y_train)\n",
    "#tuned = GradientBoostingRegressor(max_features = \"auto\", alpha = 0.5, learning_rate = 0.3, n_estimators =500 ).fit(x_train, y_train)\n",
    "#tuned = CatBoostRegressor(iterations = 1000, learning_rate = 0.1, depth = 8).fit(x_train, y_train)\n",
    "tuned = XGBRegressor(learning_rate = 0.1, max_depth = 5, n_estimators = 10000, colsample_bytree = 0.7).fit(x_train, y_train)"
   ]
  },
  {
   "cell_type": "code",
   "execution_count": 32,
   "metadata": {},
   "outputs": [],
   "source": [
    "y_pred = tuned.predict(x_test)"
   ]
  },
  {
   "cell_type": "code",
   "execution_count": 33,
   "metadata": {},
   "outputs": [
    {
     "data": {
      "text/plain": [
       "181099.04291616823"
      ]
     },
     "execution_count": 33,
     "metadata": {},
     "output_type": "execute_result"
    }
   ],
   "source": [
    "np.sqrt(mean_squared_error(y_test, y_pred))"
   ]
  },
  {
   "cell_type": "code",
   "execution_count": 34,
   "metadata": {},
   "outputs": [
    {
     "data": {
      "text/plain": [
       "array([750127.6, 385181.1, 745603.6, 356903.4, 830538. ], dtype=float32)"
      ]
     },
     "execution_count": 34,
     "metadata": {},
     "output_type": "execute_result"
    }
   ],
   "source": [
    "tuned.predict(x_test)[0:5]"
   ]
  },
  {
   "cell_type": "code",
   "execution_count": 35,
   "metadata": {},
   "outputs": [
    {
     "data": {
      "text/plain": [
       "621     750000\n",
       "2752    385000\n",
       "4210    819999\n",
       "1335    700000\n",
       "1090    835000\n",
       "Name: Fiyat, dtype: int64"
      ]
     },
     "execution_count": 35,
     "metadata": {},
     "output_type": "execute_result"
    }
   ],
   "source": [
    "y_test[0:5]"
   ]
  },
  {
   "cell_type": "code",
   "execution_count": 36,
   "metadata": {},
   "outputs": [
    {
     "data": {
      "text/plain": [
       "0.9998459173632978"
      ]
     },
     "execution_count": 36,
     "metadata": {},
     "output_type": "execute_result"
    }
   ],
   "source": [
    "tuned.score(x_train, y_train)"
   ]
  },
  {
   "cell_type": "code",
   "execution_count": 37,
   "metadata": {},
   "outputs": [
    {
     "data": {
      "text/plain": [
       "0.8934306020940516"
      ]
     },
     "execution_count": 37,
     "metadata": {},
     "output_type": "execute_result"
    }
   ],
   "source": [
    "tuned.score(x_test, y_test)"
   ]
  },
  {
   "cell_type": "code",
   "execution_count": 38,
   "metadata": {},
   "outputs": [],
   "source": [
    "#np.sqrt(-1*(cross_val_score(tuned, x_test, y_test, cv=10, scoring='neg_mean_squared_error'))).mean()"
   ]
  },
  {
   "cell_type": "code",
   "execution_count": 39,
   "metadata": {},
   "outputs": [],
   "source": [
    "importance = pd.DataFrame({\"Importance\": tuned.feature_importances_},\n",
    "                         index=x_train.columns)"
   ]
  },
  {
   "cell_type": "code",
   "execution_count": 40,
   "metadata": {},
   "outputs": [
    {
     "data": {
      "text/html": [
       "<div>\n",
       "<style scoped>\n",
       "    .dataframe tbody tr th:only-of-type {\n",
       "        vertical-align: middle;\n",
       "    }\n",
       "\n",
       "    .dataframe tbody tr th {\n",
       "        vertical-align: top;\n",
       "    }\n",
       "\n",
       "    .dataframe thead th {\n",
       "        text-align: right;\n",
       "    }\n",
       "</style>\n",
       "<table border=\"1\" class=\"dataframe\">\n",
       "  <thead>\n",
       "    <tr style=\"text-align: right;\">\n",
       "      <th></th>\n",
       "      <th>Importance</th>\n",
       "    </tr>\n",
       "  </thead>\n",
       "  <tbody>\n",
       "    <tr>\n",
       "      <th>Marka</th>\n",
       "      <td>0.069848</td>\n",
       "    </tr>\n",
       "    <tr>\n",
       "      <th>Yil</th>\n",
       "      <td>0.069408</td>\n",
       "    </tr>\n",
       "    <tr>\n",
       "      <th>Km</th>\n",
       "      <td>0.023168</td>\n",
       "    </tr>\n",
       "    <tr>\n",
       "      <th>Yakit</th>\n",
       "      <td>0.124973</td>\n",
       "    </tr>\n",
       "    <tr>\n",
       "      <th>Vites</th>\n",
       "      <td>0.706137</td>\n",
       "    </tr>\n",
       "    <tr>\n",
       "      <th>KacinciSahip</th>\n",
       "      <td>0.006467</td>\n",
       "    </tr>\n",
       "  </tbody>\n",
       "</table>\n",
       "</div>"
      ],
      "text/plain": [
       "              Importance\n",
       "Marka           0.069848\n",
       "Yil             0.069408\n",
       "Km              0.023168\n",
       "Yakit           0.124973\n",
       "Vites           0.706137\n",
       "KacinciSahip    0.006467"
      ]
     },
     "execution_count": 40,
     "metadata": {},
     "output_type": "execute_result"
    }
   ],
   "source": [
    "importance # Değişkenlerin modelimizi etkileme oranı"
   ]
  },
  {
   "cell_type": "code",
   "execution_count": 41,
   "metadata": {},
   "outputs": [],
   "source": [
    "df_3 = df.copy()"
   ]
  },
  {
   "cell_type": "code",
   "execution_count": 42,
   "metadata": {},
   "outputs": [
    {
     "data": {
      "text/html": [
       "<div>\n",
       "<style scoped>\n",
       "    .dataframe tbody tr th:only-of-type {\n",
       "        vertical-align: middle;\n",
       "    }\n",
       "\n",
       "    .dataframe tbody tr th {\n",
       "        vertical-align: top;\n",
       "    }\n",
       "\n",
       "    .dataframe thead th {\n",
       "        text-align: right;\n",
       "    }\n",
       "</style>\n",
       "<table border=\"1\" class=\"dataframe\">\n",
       "  <thead>\n",
       "    <tr style=\"text-align: right;\">\n",
       "      <th></th>\n",
       "      <th>Marka</th>\n",
       "      <th>Yil</th>\n",
       "      <th>Fiyat</th>\n",
       "      <th>Km</th>\n",
       "      <th>Yakit</th>\n",
       "      <th>SaticiTipi</th>\n",
       "      <th>Vites</th>\n",
       "      <th>KacinciSahip</th>\n",
       "    </tr>\n",
       "  </thead>\n",
       "  <tbody>\n",
       "    <tr>\n",
       "      <th>0</th>\n",
       "      <td>775</td>\n",
       "      <td>13</td>\n",
       "      <td>60000</td>\n",
       "      <td>474</td>\n",
       "      <td>4</td>\n",
       "      <td>1</td>\n",
       "      <td>1</td>\n",
       "      <td>0</td>\n",
       "    </tr>\n",
       "    <tr>\n",
       "      <th>1</th>\n",
       "      <td>1041</td>\n",
       "      <td>13</td>\n",
       "      <td>135000</td>\n",
       "      <td>335</td>\n",
       "      <td>4</td>\n",
       "      <td>1</td>\n",
       "      <td>1</td>\n",
       "      <td>0</td>\n",
       "    </tr>\n",
       "    <tr>\n",
       "      <th>2</th>\n",
       "      <td>505</td>\n",
       "      <td>18</td>\n",
       "      <td>600000</td>\n",
       "      <td>607</td>\n",
       "      <td>1</td>\n",
       "      <td>1</td>\n",
       "      <td>1</td>\n",
       "      <td>0</td>\n",
       "    </tr>\n",
       "    <tr>\n",
       "      <th>3</th>\n",
       "      <td>118</td>\n",
       "      <td>23</td>\n",
       "      <td>250000</td>\n",
       "      <td>309</td>\n",
       "      <td>4</td>\n",
       "      <td>1</td>\n",
       "      <td>1</td>\n",
       "      <td>0</td>\n",
       "    </tr>\n",
       "    <tr>\n",
       "      <th>4</th>\n",
       "      <td>279</td>\n",
       "      <td>20</td>\n",
       "      <td>450000</td>\n",
       "      <td>681</td>\n",
       "      <td>1</td>\n",
       "      <td>1</td>\n",
       "      <td>1</td>\n",
       "      <td>2</td>\n",
       "    </tr>\n",
       "  </tbody>\n",
       "</table>\n",
       "</div>"
      ],
      "text/plain": [
       "   Marka  Yil   Fiyat   Km  Yakit  SaticiTipi  Vites  KacinciSahip\n",
       "0    775   13   60000  474      4           1      1             0\n",
       "1   1041   13  135000  335      4           1      1             0\n",
       "2    505   18  600000  607      1           1      1             0\n",
       "3    118   23  250000  309      4           1      1             0\n",
       "4    279   20  450000  681      1           1      1             2"
      ]
     },
     "execution_count": 42,
     "metadata": {},
     "output_type": "execute_result"
    }
   ],
   "source": [
    "df_3.head()"
   ]
  },
  {
   "cell_type": "code",
   "execution_count": 43,
   "metadata": {},
   "outputs": [],
   "source": [
    "df_3 = df_3.drop([\"SaticiTipi\", \"Fiyat\"] , axis = 1)"
   ]
  },
  {
   "cell_type": "code",
   "execution_count": 45,
   "metadata": {},
   "outputs": [
    {
     "data": {
      "text/html": [
       "<div>\n",
       "<style scoped>\n",
       "    .dataframe tbody tr th:only-of-type {\n",
       "        vertical-align: middle;\n",
       "    }\n",
       "\n",
       "    .dataframe tbody tr th {\n",
       "        vertical-align: top;\n",
       "    }\n",
       "\n",
       "    .dataframe thead th {\n",
       "        text-align: right;\n",
       "    }\n",
       "</style>\n",
       "<table border=\"1\" class=\"dataframe\">\n",
       "  <thead>\n",
       "    <tr style=\"text-align: right;\">\n",
       "      <th></th>\n",
       "      <th>Marka</th>\n",
       "      <th>Yil</th>\n",
       "      <th>Km</th>\n",
       "      <th>Yakit</th>\n",
       "      <th>Vites</th>\n",
       "      <th>KacinciSahip</th>\n",
       "    </tr>\n",
       "  </thead>\n",
       "  <tbody>\n",
       "    <tr>\n",
       "      <th>0</th>\n",
       "      <td>775</td>\n",
       "      <td>13</td>\n",
       "      <td>474</td>\n",
       "      <td>4</td>\n",
       "      <td>1</td>\n",
       "      <td>0</td>\n",
       "    </tr>\n",
       "    <tr>\n",
       "      <th>1</th>\n",
       "      <td>1041</td>\n",
       "      <td>13</td>\n",
       "      <td>335</td>\n",
       "      <td>4</td>\n",
       "      <td>1</td>\n",
       "      <td>0</td>\n",
       "    </tr>\n",
       "    <tr>\n",
       "      <th>2</th>\n",
       "      <td>505</td>\n",
       "      <td>18</td>\n",
       "      <td>607</td>\n",
       "      <td>1</td>\n",
       "      <td>1</td>\n",
       "      <td>0</td>\n",
       "    </tr>\n",
       "    <tr>\n",
       "      <th>3</th>\n",
       "      <td>118</td>\n",
       "      <td>23</td>\n",
       "      <td>309</td>\n",
       "      <td>4</td>\n",
       "      <td>1</td>\n",
       "      <td>0</td>\n",
       "    </tr>\n",
       "    <tr>\n",
       "      <th>4</th>\n",
       "      <td>279</td>\n",
       "      <td>20</td>\n",
       "      <td>681</td>\n",
       "      <td>1</td>\n",
       "      <td>1</td>\n",
       "      <td>2</td>\n",
       "    </tr>\n",
       "  </tbody>\n",
       "</table>\n",
       "</div>"
      ],
      "text/plain": [
       "   Marka  Yil   Km  Yakit  Vites  KacinciSahip\n",
       "0    775   13  474      4      1             0\n",
       "1   1041   13  335      4      1             0\n",
       "2    505   18  607      1      1             0\n",
       "3    118   23  309      4      1             0\n",
       "4    279   20  681      1      1             2"
      ]
     },
     "execution_count": 45,
     "metadata": {},
     "output_type": "execute_result"
    }
   ],
   "source": [
    "df_3.head()"
   ]
  },
  {
   "cell_type": "markdown",
   "metadata": {},
   "source": [
    "# ARAYÜZ OLUŞTURMA"
   ]
  },
  {
   "cell_type": "code",
   "execution_count": 54,
   "metadata": {},
   "outputs": [],
   "source": [
    "pencere = Tk()\n",
    "pencere.title(\"Araç Fiyat Tahmini\")\n",
    "pencere.configure(background='#ccccff')\n",
    "pencere.geometry(\"1700x900\")\n",
    "pencere.state(\"normal\")\n",
    "\n",
    "pencere.columnconfigure(0, weight=1)\n",
    "pencere.rowconfigure(0, weight=1)\n",
    " \n",
    "\n",
    "def olumsuz():\n",
    "    messagebox.showwarning(title=\"!\", message=\"Lütfen seçim yapınız!\")\n",
    "    \n",
    "def marka_duzenleme():\n",
    "    global marka\n",
    "    marka_ad = marka_kutu.get()\n",
    "    \n",
    "    s = -1\n",
    "    for i in marka_adlari:\n",
    "        s += 1\n",
    "        if(str(marka_ad) == i):\n",
    "            marka = indeks[s]\n",
    "         \n",
    "      \n",
    "            \n",
    "def km_duzenleme():\n",
    "    global km\n",
    "    km_durum = km_kutu.get()\n",
    "    satir = -1\n",
    "    for i in km_degerleri_liste:\n",
    "        satir += 1\n",
    "        if(int(km_durum) == i):\n",
    "            km = km_indeks[satir]\n",
    "  \n",
    "    \n",
    "def yil_duzenleme():\n",
    "    \n",
    "    global yil\n",
    "    yil_sayi = int(yil_kutu.get())\n",
    "    if(yil_sayi == 1992):\n",
    "        yil = 0\n",
    "    elif(yil_sayi == 1991):\n",
    "        yil = 0\n",
    "    elif(yil_sayi == 1990):\n",
    "        yil = 0\n",
    "    elif(yil_sayi == 1993):\n",
    "        yil = 1\n",
    "    elif(yil_sayi == 1994):\n",
    "        yil = 1\n",
    "    elif(yil_sayi == 1995):\n",
    "        yil = 1\n",
    "    elif(yil_sayi == 1996):\n",
    "        yil = 2\n",
    "    elif(yil_sayi == 1997):\n",
    "        yil = 3\n",
    "    elif(yil_sayi == 1998):\n",
    "        yil = 4\n",
    "    elif(yil_sayi == 1999):\n",
    "        yil = 5\n",
    "    elif(yil_sayi == 2000):\n",
    "        yil = 6\n",
    "    elif(yil_sayi == 2001):\n",
    "        yil = 7\n",
    "    elif(yil_sayi == 2002):\n",
    "        yil = 8\n",
    "    elif(yil_sayi == 2003):\n",
    "        yil = 9\n",
    "    elif(yil_sayi == 2004):\n",
    "        yil = 10\n",
    "    elif(yil_sayi == 2005):\n",
    "        yil = 11\n",
    "    elif(yil_sayi == 2006):\n",
    "        yil = 12\n",
    "    elif(yil_sayi == 2007):\n",
    "        yil = 13\n",
    "    elif(yil_sayi == 2008):\n",
    "        yil = 14\n",
    "    elif(yil_sayi == 2009):\n",
    "        yil = 15\n",
    "    elif(yil_sayi == 2010):\n",
    "        yil = 16\n",
    "    elif(yil_sayi == 2011):\n",
    "        yil = 17\n",
    "    elif(yil_sayi == 2012):\n",
    "        yil = 18\n",
    "    elif(yil_sayi == 2013):\n",
    "        yil = 19\n",
    "    elif(yil_sayi == 2014):\n",
    "        yil = 20\n",
    "    elif(yil_sayi == 2015):\n",
    "        yil = 21\n",
    "    elif(yil_sayi == 2016):\n",
    "        yil = 22\n",
    "    elif(yil_sayi == 2017):\n",
    "        yil = 23\n",
    "    elif(yil_sayi == 2018):\n",
    "        yil = 24\n",
    "    elif(yil_sayi == 2019):\n",
    "        yil = 25\n",
    "    elif(yil_sayi == 2020):\n",
    "        yil = 26\n",
    "    else:\n",
    "        olumsuz()\n",
    "\n",
    "\n",
    "        \n",
    "def yakit_duzenleme():\n",
    "   \n",
    "    global yakit \n",
    "    yakit_durum = yakit_kutu.get()\n",
    "    if(yakit_durum == \"Elektrik\"):\n",
    "        yakit = 2\n",
    "    elif(yakit_durum == \"Dizel\"):\n",
    "        yakit = 1\n",
    "    elif(yakit_durum == \"Benzin\"):\n",
    "        yakit = 4\n",
    "    elif(yakit_durum == \"CNG\"):\n",
    "        yakit = 0\n",
    "    elif(yakit_durum == \"LPG\"):\n",
    "        yakit = 3\n",
    "    else:\n",
    "        olumsuz()\n",
    "         \n",
    "def kacincisahip_duzenleme():\n",
    "    global sahip\n",
    "    sahip_durum = sahip_kutu.get()\n",
    "    if(sahip_durum == \"Bir el değiştirdi\"):\n",
    "        sahip = 0\n",
    "    elif(sahip_durum == \"İki el değiştirdi\"):\n",
    "        sahip = 2\n",
    "    elif(sahip_durum == \"Üç el değiştirdi\"):\n",
    "        sahip = 4\n",
    "    elif(sahip_durum == \"Dört ve daha fazla el değiştirdi\"):\n",
    "        sahip = 1\n",
    "    elif(sahip_durum == \"Sadece test sürüşü yapıldı\"):\n",
    "        sahip = 3\n",
    "    else:\n",
    "        olumsuz()\n",
    "\n",
    "def vites_duzenleme():\n",
    "    global vites\n",
    "    vites_durum = vites_kutu.get()\n",
    "    if(vites_durum == \"Manuel\"):\n",
    "        vites = 1\n",
    "    elif(vites_durum == \"Otomatik\"):\n",
    "        vites = 0\n",
    "    else:\n",
    "        olumsuz()\n",
    "        \n",
    "    \n",
    "    \n",
    "baslık_label = Label(pencere, text = \"ARAÇ FİYAT TAHMİNİ\", font=\"times 50\",borderwidth=20, padx = 250, pady = 20,\n",
    "                     background = \"#ccccff\", relief = \"ridge\",bg=\"black\",fg=\"white\")        \n",
    "baslık_label.place(x = 50 ,y = 20)\n",
    "        \n",
    "    \n",
    "# YIL DÜZENLE\n",
    "yil_label = Label(text = \"Yıl Seçiniz\", font=\"times 15\",borderwidth=6, relief = \"sunken\",bg=\"#049\",fg=\"white\")\n",
    "yil_label.place(x = 100, y = 500)\n",
    "\n",
    "yillar = [1990, 1991, 1992, 1993, 1994, 1995, 1996, 1997, 1998, 1999, 2000, 2001, 2002, 2003, 2004,\n",
    "       2005, 2006, 2007, 2008, 2009, 2010, 2011, 2012, 2013, 2014, 2015,\n",
    "       2016, 2017, 2018, 2019, 2020]\n",
    "yil_kutu = Combobox(pencere, values = yillar)\n",
    "yil_kutu.place(x = 100,y = 550)\n",
    "\n",
    "yil_buton = Button(pencere, text = \"Seç\", command = yil_duzenleme, font=\"times 12\",borderwidth=6, relief = \"ridge\",bg=\"black\",fg=\"white\")\n",
    "yil_buton.place(x = 100, y = 600)\n",
    "\n",
    "#YAKIT DÜZENLEME\n",
    "yakit_label = Label(text = \"Yakıt Seçiniz\", font=\"times 15\",borderwidth=6, relief = \"sunken\",bg=\"#049\",fg=\"white\")\n",
    "yakit_label.place(x = 400, y = 300)\n",
    "\n",
    "yakitlar = [\"Elektrik\", \"Dizel\", \"Benzin\", \"CNG\", \"LPG\"]\n",
    "yakit_kutu = Combobox(pencere, values = yakitlar)\n",
    "yakit_kutu.place(x = 400,y = 350)\n",
    "\n",
    "yakit_buton = Button(pencere, text = \"Seç\", command = yakit_duzenleme, font=\"times 12\",borderwidth=6, relief = \"ridge\",bg=\"black\",fg=\"white\")\n",
    "yakit_buton.place(x = 400, y = 400)\n",
    "\n",
    "#VİTES DÜZENLEME\n",
    "vites_label = Label(text = \"Vites Seçiniz\", font=\"times 15\",borderwidth=6, relief = \"sunken\",bg=\"#049\",fg=\"white\")\n",
    "vites_label.place(x = 700, y = 300)\n",
    "\n",
    "vitesler = [\"Manuel\", \"Otomatik\"]\n",
    "vites_kutu = Combobox(pencere, values = vitesler)\n",
    "vites_kutu.place(x = 700,y = 350)\n",
    "\n",
    "vites_buton = Button(pencere, text = \"Seç\", command = vites_duzenleme, font=\"times 12\",borderwidth=6, relief = \"ridge\",bg=\"black\",fg=\"white\")\n",
    "vites_buton.place(x = 700, y = 400)\n",
    "\n",
    "#SAHİP DURUMU DÜZENLEME\n",
    "sahip_label = Label(text = \"Kaç el değiştirdi ?\", font=\"times 15\",borderwidth=6, relief = \"sunken\",bg=\"#049\",fg=\"white\")\n",
    "sahip_label.place(x = 700, y = 500)\n",
    "\n",
    "sahipler = [\"Bir el değiştirdi\", \"İki el değiştirdi\", \"Üç el değiştirdi\", \"Dört ve daha fazla el değiştirdi\", \"Sadece test sürüşü yapıldı\"]\n",
    "sahip_kutu = Combobox(pencere, values = sahipler)\n",
    "sahip_kutu.place(x = 700,y = 550)\n",
    "\n",
    "sahip_buton = Button(pencere, text = \"Seç\", command = kacincisahip_duzenleme, font=\"times 12\",borderwidth=6, relief = \"ridge\",bg=\"black\",fg=\"white\")\n",
    "sahip_buton.place(x = 700, y = 600)\n",
    "\n",
    "#MARKA DÜZENLEME\n",
    "marka_label = Label(text = \"Marka/Model Seçiniz\", font=\"times 15\",borderwidth=6, relief = \"sunken\",bg=\"#049\",fg=\"white\")\n",
    "marka_label.place(x = 100, y = 300)\n",
    "\n",
    "\n",
    "marka_kutu = Combobox(pencere, values = marka_adlari)\n",
    "marka_kutu.place(x = 100,y = 350)\n",
    "\n",
    "marka_buton = Button(pencere, text = \"Seç\", command = marka_duzenleme, font=\"times 12\",borderwidth=6, relief = \"ridge\",bg=\"black\",fg=\"white\")\n",
    "marka_buton.place(x = 100, y = 400)\n",
    "\n",
    "#KM DÜZENLEME\n",
    "km_label = Label(text = \"Km Seçiniz\", font=\"times 15\",borderwidth=6, relief = \"sunken\",bg=\"#049\",fg=\"white\")\n",
    "km_label.place(x = 400, y = 500)\n",
    "\n",
    "\n",
    "km_kutu = Combobox(pencere, values = km_degerleri_liste)\n",
    "km_kutu.place(x = 400,y = 550)\n",
    "\n",
    "km_buton = Button(pencere, text = \"Seç\", command = km_duzenleme, font=\"times 12\",borderwidth=6, relief = \"ridge\",bg=\"black\",fg=\"white\")\n",
    "km_buton.place(x = 400, y = 600)\n",
    "\n",
    "# MACHINE LEARNING BAŞLANGIÇ\n",
    "def hesapla():\n",
    "  \n",
    "    yeni_veri = [[marka], [yil], [km], [yakit], [vites], [sahip]]  \n",
    "    yeni_veri = pd.DataFrame(yeni_veri).T\n",
    "\n",
    "    df_3 = yeni_veri.rename(columns = {0:\"Marka\",\n",
    "                        1:\"Yil\",\n",
    "                        2:\"Km\",\n",
    "                        3:\"Yakit\",\n",
    "                        4:\"Vites\",\n",
    "                        5:\"KacinciSahip\",\n",
    "                    })\n",
    "    \n",
    "    #print(\"Marka : \",marka,\"Yıl : \" , yil,\"KM : \" , km, \"Yakit : \" , yakit, \"Vites : \", vites,\"Sahip : \", sahip)\n",
    "    pred = tuned.predict(df_3)\n",
    "    \n",
    "    if(pred < 0):\n",
    "        pred = -1*pred\n",
    "    \n",
    "    pred = float(pred)\n",
    "    pred = round(pred, 3)\n",
    "    s2 = Label(pencere, text = str(pred) + \" TL\", font=\"times 15\",borderwidth=6, padx = 150, pady = 50)\n",
    "    s2.place(x = 950, y = 450)\n",
    "    return df_3\n",
    "    \n",
    "    \n",
    "# HESAPLA\n",
    "hesapla_buton = Button(pencere, text = \"HESAPLA\", command = hesapla, font=\"times 20\",borderwidth=30, padx = 10, pady = 40, background = \"#f7fafc\",bg=\"#049\",fg=\"white\", relief = \"sunken\")\n",
    "hesapla_buton.place(x = 1000, y = 250)\n",
    "\n",
    "s1 = Label(pencere, text= \"\" , font=\"times 15\",borderwidth=6, padx = 150, pady = 50, bg=\"black\",fg=\"white\", relief = \"ridge\")\n",
    "s1.place(x = 950, y = 450)\n",
    "\n",
    "# HAKKINDA\n",
    "hakkında_label = Label(pencere, text = \"Hediye Orhan\", font = \"times 15\", borderwidth = 20, relief = \"sunken\",bg=\"#049\",fg=\"white\")\n",
    "hakkında_label.place(x = 1210, y = 630)\n",
    "   \n",
    "\n",
    "mainloop()"
   ]
  },
  {
   "cell_type": "code",
   "execution_count": null,
   "metadata": {},
   "outputs": [],
   "source": []
  }
 ],
 "metadata": {
  "kernelspec": {
   "display_name": "Python 3",
   "language": "python",
   "name": "python3"
  },
  "language_info": {
   "codemirror_mode": {
    "name": "ipython",
    "version": 3
   },
   "file_extension": ".py",
   "mimetype": "text/x-python",
   "name": "python",
   "nbconvert_exporter": "python",
   "pygments_lexer": "ipython3",
   "version": "3.8.5"
  }
 },
 "nbformat": 4,
 "nbformat_minor": 4
}
